{
 "cells": [
  {
   "cell_type": "code",
   "execution_count": 62,
   "metadata": {},
   "outputs": [],
   "source": [
    "import pandas as pd\n",
    "import pyarrow.parquet as pq\n",
    "import pyarrow as pa\n",
    "import pandas as pd\n",
    "import numpy as np\n",
    "\n",
    "import nltk\n",
    "\n",
    "from sklearn.metrics.pairwise import cosine_similarity\n",
    "from sklearn.feature_extraction.text import TfidfVectorizer, CountVectorizer\n",
    "from sklearn.metrics.pairwise import linear_kernel\n",
    "from sklearn.preprocessing import MinMaxScaler\n",
    "\n",
    "from surprise import Dataset, Reader\n",
    "from surprise import SVD\n",
    "from surprise.model_selection import GridSearchCV"
   ]
  },
  {
   "cell_type": "markdown",
   "metadata": {},
   "source": [
    "#### Sistema de recomendación item-item:\n",
    "\n",
    "- **def recomendacion_juego( item_id ):**\n",
    "\n",
    "> Ingresando el id de producto, deberíamos recibir una lista con 5 juegos recomendados similares al ingresado.\n"
   ]
  },
  {
   "cell_type": "code",
   "execution_count": 2,
   "metadata": {},
   "outputs": [],
   "source": [
    "# Ruta del archivo .parquet\n",
    "file_path = r'datasets\\processed_data\\steam_games.parquet'\n",
    "\n",
    "# Leer el archivo .parquet en un DataFrame\n",
    "df = pq.read_table(file_path).to_pandas()\n"
   ]
  },
  {
   "cell_type": "code",
   "execution_count": 3,
   "metadata": {},
   "outputs": [
    {
     "data": {
      "text/plain": [
       "(22527, 2)"
      ]
     },
     "execution_count": 3,
     "metadata": {},
     "output_type": "execute_result"
    }
   ],
   "source": [
    "# Nos quedamos con las columnas de interes\n",
    "df = df[['item_id', 'genres']]\n",
    "# quitamos duplicados y reiniciamos el índice\n",
    "df = df.drop_duplicates()\n",
    "df = df.reset_index(drop=True)\n",
    "df.shape\n"
   ]
  },
  {
   "cell_type": "code",
   "execution_count": 4,
   "metadata": {},
   "outputs": [],
   "source": [
    "# Importamos nuestro modelo\n",
    "tf = TfidfVectorizer()\n",
    "\n",
    "# calculamos los features (en genres) para cada ítem_id \n",
    "tfidf_matrix = tf.fit_transform(df['genres'])"
   ]
  },
  {
   "cell_type": "code",
   "execution_count": 5,
   "metadata": {},
   "outputs": [],
   "source": [
    "# calculamos las similitudes entre todos los documentos\n",
    "cosine_similarities = linear_kernel(tfidf_matrix, tfidf_matrix)"
   ]
  },
  {
   "cell_type": "code",
   "execution_count": 6,
   "metadata": {},
   "outputs": [],
   "source": [
    "def recommend_items(item_id, cosine_similarities, items, n=5):\n",
    "  # Obtener el índice del elemento actual\n",
    "  index = np.where(items == item_id)[0][0]\n",
    "\n",
    "  # Obtener las similitudes del elemento actual con todos los demás elementos\n",
    "  similar_items = list(enumerate(cosine_similarities[index]))\n",
    "\n",
    "  # Ordenar las similitudes en orden descendente\n",
    "  similar_items = sorted(similar_items, key=lambda x: x[1], reverse=True)[1:n+1]\n",
    "\n",
    "  # Obtener los índices de los elementos más similares\n",
    "  item_indices = [i[0] for i in similar_items]\n",
    "\n",
    "  # Devolver los IDs de los elementos más similares\n",
    "  return items[item_indices]\n",
    "\n",
    "  # Obtener recomendaciones para un elemento específico\n",
    "item_id = '252490'\n",
    "recommendations = recommend_items(item_id, cosine_similarities, df['item_id'])\n",
    "\n",
    "# Imprimir las recomendaciones\n",
    "print('Recommendations for item {}:'.format(item_id))\n",
    "for item in recommendations:\n",
    "  print(item)"
   ]
  },
  {
   "cell_type": "code",
   "execution_count": 7,
   "metadata": {},
   "outputs": [
    {
     "name": "stdout",
     "output_type": "stream",
     "text": [
      "      item_id                                      top_5_item_id\n",
      "0      761140  2740    350810\n",
      "2882    361520\n",
      "4151    262120\n",
      "5...\n",
      "1      643980  2846    365270\n",
      "3798    344190\n",
      "4587    465830\n",
      "4...\n",
      "2      670290  5357     522660\n",
      "10094    729580\n",
      "4813     47803...\n",
      "3      767400  30      764280\n",
      "366      19080\n",
      "512      60340\n",
      "1...\n",
      "4      772540  1761    289480\n",
      "1993    297100\n",
      "2333    318220\n",
      "2...\n",
      "...       ...                                                ...\n",
      "22522  745400  1458    244810\n",
      "1561    257750\n",
      "1882    238460\n",
      "1...\n",
      "22523  773640  678     901776\n",
      "680      80202\n",
      "681      80204\n",
      "6...\n",
      "22524  733530  791    206690\n",
      "802    207710\n",
      "846    108232\n",
      "859 ...\n",
      "22525  610660  6023     575400\n",
      "6288     361840\n",
      "8944     76018...\n",
      "22526  658870  36      4900\n",
      "37      2520\n",
      "95     13000\n",
      "147    ...\n",
      "\n",
      "[22527 rows x 2 columns]\n"
     ]
    }
   ],
   "source": [
    "def recommend_items(item_id, cosine_similarities, items, n=5):\n",
    "    # Obtener el índice del elemento actual\n",
    "    index = np.where(items == item_id)[0][0]\n",
    "\n",
    "    # Obtener las similitudes del elemento actual con todos los demás elementos\n",
    "    similar_items = list(enumerate(cosine_similarities[index]))\n",
    "\n",
    "    # Ordenar las similitudes en orden descendente\n",
    "    similar_items = sorted(similar_items, key=lambda x: x[1], reverse=True)[1:n+1]\n",
    "\n",
    "    # Obtener los índices de los elementos más similares\n",
    "    item_indices = [i[0] for i in similar_items]\n",
    "\n",
    "    # Devolver los IDs de los elementos más similares\n",
    "    return items[item_indices]\n",
    "\n",
    "# Lista para almacenar las predicciones\n",
    "all_predictions = []\n",
    "\n",
    "# Iterar sobre todos los item_id\n",
    "for item_id in df['item_id'].unique():\n",
    "    # Obtener las recomendaciones para el item_id actual\n",
    "    recommendations = recommend_items(item_id, cosine_similarities, df['item_id'])\n",
    "    # Guardar los resultados en la lista\n",
    "    all_predictions.append({\"item_id\": item_id, \"top_5_item_id\": recommendations})\n",
    "\n",
    "# Convertir la lista de diccionarios en un DataFrame\n",
    "predictions_df = pd.DataFrame(all_predictions)\n",
    "\n"
   ]
  },
  {
   "cell_type": "code",
   "execution_count": 10,
   "metadata": {},
   "outputs": [
    {
     "name": "stdout",
     "output_type": "stream",
     "text": [
      "      item_id                       top_5_item_id\n",
      "0      761140  350810 361520 262120 504880 592730\n",
      "1      643980  365270 344190 465830 465831 465832\n",
      "2      670290  522660 729580 478034 486190 485143\n",
      "3      767400    764280 19080 60340 227380 237630\n",
      "4      772540  289480 297100 318220 364800 364810\n",
      "...       ...                                 ...\n",
      "22522  745400  244810 257750 238460 277510 297370\n",
      "22523  773640     901776 80202 80204 80207 238930\n",
      "22524  733530  206690 207710 108232 108230 108200\n",
      "22525  610660  575400 361840 760180 509130 507070\n",
      "22526  658870         4900 2520 13000 21300 18300\n",
      "\n",
      "[22527 rows x 2 columns]\n"
     ]
    }
   ],
   "source": [
    "def recommend_items(item_id, cosine_similarities, items, n=5):\n",
    "    # Obtener el índice del elemento actual\n",
    "    index = np.where(items == item_id)[0][0]\n",
    "\n",
    "    # Obtener las similitudes del elemento actual con todos los demás elementos\n",
    "    similar_items = list(enumerate(cosine_similarities[index]))\n",
    "\n",
    "    # Ordenar las similitudes en orden descendente\n",
    "    similar_items = sorted(similar_items, key=lambda x: x[1], reverse=True)[1:n+1]\n",
    "\n",
    "    # Obtener los índices de los elementos más similares\n",
    "    item_indices = [i[0] for i in similar_items]\n",
    "\n",
    "    # Devolver los IDs de los elementos más similares\n",
    "    return items[item_indices]\n",
    "\n",
    "# Lista para almacenar las predicciones\n",
    "all_predictions = []\n",
    "\n",
    "# Iterar sobre todos los item_id\n",
    "for item_id in df['item_id'].unique():\n",
    "    # Obtener las recomendaciones para el item_id actual\n",
    "    recommendations = recommend_items(item_id, cosine_similarities, df['item_id'])\n",
    "    # Guardar los resultados en la lista\n",
    "    all_predictions.append({\"item_id\": item_id, \"top_5_item_id\": ' '.join(map(str, recommendations))})\n"
   ]
  },
  {
   "cell_type": "code",
   "execution_count": 14,
   "metadata": {},
   "outputs": [],
   "source": [
    "# Exportamos para trabajar los dataos resultantes de las predicciones\n",
    "item_to_item = pd.DataFrame(all_predictions)\n",
    "item_to_item.to_parquet('datasets/processed_data/item_to_item.parquet')\n"
   ]
  },
  {
   "cell_type": "code",
   "execution_count": 82,
   "metadata": {},
   "outputs": [],
   "source": [
    "# Ruta al archivo Parquet\n",
    "file_path = 'datasets/processed_data/data_for_ML/item_to_item.parquet'\n",
    "\n",
    "# Cargar el archivo Parquet en un DataFrame utilizando PyArrow\n",
    "table = pq.read_table(file_path)\n",
    "df = table.to_pandas()\n"
   ]
  },
  {
   "cell_type": "code",
   "execution_count": 83,
   "metadata": {},
   "outputs": [],
   "source": [
    "# Reemplazar espacios por comas en la columna top_5_item_id\n",
    "df['top_5_item_id'] = df['top_5_item_id'].str.replace(' ', ',')"
   ]
  },
  {
   "cell_type": "code",
   "execution_count": 84,
   "metadata": {},
   "outputs": [
    {
     "data": {
      "text/html": [
       "<div>\n",
       "<style scoped>\n",
       "    .dataframe tbody tr th:only-of-type {\n",
       "        vertical-align: middle;\n",
       "    }\n",
       "\n",
       "    .dataframe tbody tr th {\n",
       "        vertical-align: top;\n",
       "    }\n",
       "\n",
       "    .dataframe thead th {\n",
       "        text-align: right;\n",
       "    }\n",
       "</style>\n",
       "<table border=\"1\" class=\"dataframe\">\n",
       "  <thead>\n",
       "    <tr style=\"text-align: right;\">\n",
       "      <th></th>\n",
       "      <th>item_id</th>\n",
       "      <th>top_5_item_id</th>\n",
       "    </tr>\n",
       "  </thead>\n",
       "  <tbody>\n",
       "    <tr>\n",
       "      <th>0</th>\n",
       "      <td>761140</td>\n",
       "      <td>350810,361520,262120,504880,592730</td>\n",
       "    </tr>\n",
       "    <tr>\n",
       "      <th>1</th>\n",
       "      <td>643980</td>\n",
       "      <td>365270,344190,465830,465831,465832</td>\n",
       "    </tr>\n",
       "    <tr>\n",
       "      <th>2</th>\n",
       "      <td>670290</td>\n",
       "      <td>522660,729580,478034,486190,485143</td>\n",
       "    </tr>\n",
       "    <tr>\n",
       "      <th>3</th>\n",
       "      <td>767400</td>\n",
       "      <td>764280,19080,60340,227380,237630</td>\n",
       "    </tr>\n",
       "    <tr>\n",
       "      <th>4</th>\n",
       "      <td>772540</td>\n",
       "      <td>289480,297100,318220,364800,364810</td>\n",
       "    </tr>\n",
       "    <tr>\n",
       "      <th>...</th>\n",
       "      <td>...</td>\n",
       "      <td>...</td>\n",
       "    </tr>\n",
       "    <tr>\n",
       "      <th>22522</th>\n",
       "      <td>745400</td>\n",
       "      <td>244810,257750,238460,277510,297370</td>\n",
       "    </tr>\n",
       "    <tr>\n",
       "      <th>22523</th>\n",
       "      <td>773640</td>\n",
       "      <td>901776,80202,80204,80207,238930</td>\n",
       "    </tr>\n",
       "    <tr>\n",
       "      <th>22524</th>\n",
       "      <td>733530</td>\n",
       "      <td>206690,207710,108232,108230,108200</td>\n",
       "    </tr>\n",
       "    <tr>\n",
       "      <th>22525</th>\n",
       "      <td>610660</td>\n",
       "      <td>575400,361840,760180,509130,507070</td>\n",
       "    </tr>\n",
       "    <tr>\n",
       "      <th>22526</th>\n",
       "      <td>658870</td>\n",
       "      <td>4900,2520,13000,21300,18300</td>\n",
       "    </tr>\n",
       "  </tbody>\n",
       "</table>\n",
       "<p>22527 rows × 2 columns</p>\n",
       "</div>"
      ],
      "text/plain": [
       "      item_id                       top_5_item_id\n",
       "0      761140  350810,361520,262120,504880,592730\n",
       "1      643980  365270,344190,465830,465831,465832\n",
       "2      670290  522660,729580,478034,486190,485143\n",
       "3      767400    764280,19080,60340,227380,237630\n",
       "4      772540  289480,297100,318220,364800,364810\n",
       "...       ...                                 ...\n",
       "22522  745400  244810,257750,238460,277510,297370\n",
       "22523  773640     901776,80202,80204,80207,238930\n",
       "22524  733530  206690,207710,108232,108230,108200\n",
       "22525  610660  575400,361840,760180,509130,507070\n",
       "22526  658870         4900,2520,13000,21300,18300\n",
       "\n",
       "[22527 rows x 2 columns]"
      ]
     },
     "execution_count": 84,
     "metadata": {},
     "output_type": "execute_result"
    }
   ],
   "source": [
    "df"
   ]
  },
  {
   "cell_type": "code",
   "execution_count": 85,
   "metadata": {},
   "outputs": [
    {
     "data": {
      "text/plain": [
       "['350810,361520,262120,504880,592730']"
      ]
     },
     "execution_count": 85,
     "metadata": {},
     "output_type": "execute_result"
    }
   ],
   "source": [
    "# Creamos una funcion auxiliar para obtener los primeros 5 item_id\n",
    "def get_top_5_item_id(item_id):\n",
    "    row = df[df['item_id'] == item_id]\n",
    "    if len(row) == 0:\n",
    "        return None  # Si el item_id no está en el DataFrame, retorna None\n",
    "    \n",
    "    top_5 = row['top_5_item_id'].iloc[0].split()[:5]  # Obtiene los primeros 5 item_id de la fila\n",
    "    return top_5\n",
    "\n",
    "get_top_5_item_id(\"761140\")\n"
   ]
  },
  {
   "cell_type": "code",
   "execution_count": 86,
   "metadata": {},
   "outputs": [],
   "source": [
    "# Nos conviene utilizar un df para obtener el title del item_id correspondiente\n",
    "\n",
    "# Ruta de los archivos Parquet\n",
    "games_parquet = 'datasets/processed_data/steam_games.parquet'\n",
    "# Utiliza PyArrow para leer el archivo Parquet\n",
    "tabla_games = pq.read_table(games_parquet)\n",
    "# Leer las tablas en DataFrames de Pandas\n",
    "df_steam_games = tabla_games.to_pandas()\n",
    "\n",
    "title_finder = df_steam_games[['item_id', 'title']]\n"
   ]
  },
  {
   "cell_type": "code",
   "execution_count": 87,
   "metadata": {},
   "outputs": [
    {
     "data": {
      "text/html": [
       "<div>\n",
       "<style scoped>\n",
       "    .dataframe tbody tr th:only-of-type {\n",
       "        vertical-align: middle;\n",
       "    }\n",
       "\n",
       "    .dataframe tbody tr th {\n",
       "        vertical-align: top;\n",
       "    }\n",
       "\n",
       "    .dataframe thead th {\n",
       "        text-align: right;\n",
       "    }\n",
       "</style>\n",
       "<table border=\"1\" class=\"dataframe\">\n",
       "  <thead>\n",
       "    <tr style=\"text-align: right;\">\n",
       "      <th></th>\n",
       "      <th>item_id</th>\n",
       "      <th>title</th>\n",
       "    </tr>\n",
       "  </thead>\n",
       "  <tbody>\n",
       "    <tr>\n",
       "      <th>88310</th>\n",
       "      <td>761140</td>\n",
       "      <td>Lost Summoner Kitty</td>\n",
       "    </tr>\n",
       "    <tr>\n",
       "      <th>88311</th>\n",
       "      <td>643980</td>\n",
       "      <td>Ironbound</td>\n",
       "    </tr>\n",
       "    <tr>\n",
       "      <th>88312</th>\n",
       "      <td>670290</td>\n",
       "      <td>Real Pool 3D - Poolians</td>\n",
       "    </tr>\n",
       "    <tr>\n",
       "      <th>88313</th>\n",
       "      <td>767400</td>\n",
       "      <td>弹炸人2222</td>\n",
       "    </tr>\n",
       "    <tr>\n",
       "      <th>88315</th>\n",
       "      <td>772540</td>\n",
       "      <td>Battle Royale Trainer</td>\n",
       "    </tr>\n",
       "    <tr>\n",
       "      <th>...</th>\n",
       "      <td>...</td>\n",
       "      <td>...</td>\n",
       "    </tr>\n",
       "    <tr>\n",
       "      <th>120439</th>\n",
       "      <td>745400</td>\n",
       "      <td>Kebab it Up!</td>\n",
       "    </tr>\n",
       "    <tr>\n",
       "      <th>120440</th>\n",
       "      <td>773640</td>\n",
       "      <td>Colony On Mars</td>\n",
       "    </tr>\n",
       "    <tr>\n",
       "      <th>120441</th>\n",
       "      <td>733530</td>\n",
       "      <td>LOGistICAL: South Africa</td>\n",
       "    </tr>\n",
       "    <tr>\n",
       "      <th>120442</th>\n",
       "      <td>610660</td>\n",
       "      <td>Russian Roads</td>\n",
       "    </tr>\n",
       "    <tr>\n",
       "      <th>120443</th>\n",
       "      <td>658870</td>\n",
       "      <td>EXIT 2 - Directions</td>\n",
       "    </tr>\n",
       "  </tbody>\n",
       "</table>\n",
       "<p>22528 rows × 2 columns</p>\n",
       "</div>"
      ],
      "text/plain": [
       "       item_id                     title\n",
       "88310   761140       Lost Summoner Kitty\n",
       "88311   643980                 Ironbound\n",
       "88312   670290   Real Pool 3D - Poolians\n",
       "88313   767400                   弹炸人2222\n",
       "88315   772540     Battle Royale Trainer\n",
       "...        ...                       ...\n",
       "120439  745400              Kebab it Up!\n",
       "120440  773640            Colony On Mars\n",
       "120441  733530  LOGistICAL: South Africa\n",
       "120442  610660             Russian Roads\n",
       "120443  658870       EXIT 2 - Directions\n",
       "\n",
       "[22528 rows x 2 columns]"
      ]
     },
     "execution_count": 87,
     "metadata": {},
     "output_type": "execute_result"
    }
   ],
   "source": [
    "title_finder\n"
   ]
  },
  {
   "cell_type": "code",
   "execution_count": 95,
   "metadata": {},
   "outputs": [],
   "source": [
    "def get_top_5_item_id_with_titles(item_id):\n",
    "    row = df[df['item_id'] == item_id]\n",
    "    if len(row) == 0:\n",
    "        return None  # Si el item_id no está en el DataFrame, retorna None\n",
    "    \n",
    "    top_5_ids = row['top_5_item_id'].iloc[0].split(\",\")[:5]  # Divide los top_5_item_id y obtiene los primeros 5\n",
    "    titles = []\n",
    "    for id in top_5_ids:\n",
    "        id = id.strip()  # Elimina espacios en blanco alrededor del item_id\n",
    "        title_row = title_finder[title_finder['item_id'] == id]['title']\n",
    "        if not title_row.empty:\n",
    "            titles.append((id, title_row.iloc[0]))\n",
    "    return titles\n"
   ]
  },
  {
   "cell_type": "code",
   "execution_count": 97,
   "metadata": {},
   "outputs": [
    {
     "data": {
      "text/plain": [
       "[('350810', 'Pixel Puzzles 2: Anime'),\n",
       " ('361520', 'World of Cinema - Directors Cut'),\n",
       " ('262120', 'Toy Soldiers: Complete'),\n",
       " ('504880', 'Pixel Puzzles 2: RADical ROACH'),\n",
       " ('592730', 'Aerial Destruction')]"
      ]
     },
     "execution_count": 97,
     "metadata": {},
     "output_type": "execute_result"
    }
   ],
   "source": [
    "get_top_5_item_id_with_titles(\"761140\")"
   ]
  },
  {
   "cell_type": "code",
   "execution_count": 53,
   "metadata": {},
   "outputs": [],
   "source": [
    "# Finalmente exportamos nuestros datos a utilizar para la API \n",
    "title_finder.to_parquet('datasets/processed_data/data_for_funciones/title_finder.parquet')\n",
    "df.to_parquet('datasets/processed_data/data_for_funciones/recomendacion_juego.parquet')\n",
    "\n",
    "# Lo unico que nos queda es adaptar la funcion a la API ..."
   ]
  },
  {
   "cell_type": "markdown",
   "metadata": {},
   "source": [
    "#### Sistema de recomendación user-item:\n",
    "\n",
    "- **def recomendacion_usuario( user_id):**\n",
    "\n",
    "> Ingresando el id de un usuario, deberíamos recibir una lista con 5 juegos recomendados para dicho usuario."
   ]
  },
  {
   "cell_type": "code",
   "execution_count": 57,
   "metadata": {},
   "outputs": [],
   "source": [
    "# Especifica la ruta del archivo Parquet\n",
    "ruta_archivo_parquet = 'datasets/processed_data/data_for_ML/ml_user_items.parquet'\n",
    "\n",
    "# Lee el archivo Parquet en una tabla de PyArrow\n",
    "tabla_parquet = pq.read_table(ruta_archivo_parquet)\n",
    "\n",
    "# Convierte la tabla a un DataFrame de pandas si es necesario\n",
    "ml_user_items = tabla_parquet.to_pandas()\n"
   ]
  },
  {
   "cell_type": "code",
   "execution_count": 58,
   "metadata": {},
   "outputs": [],
   "source": [
    "# Normalizar playtime_forever en un rango de 0 a 1\n",
    "scaler = MinMaxScaler()\n",
    "# Crear una nueva columna para dicha normalización\n",
    "ml_user_items['normalized_playtime'] = scaler.fit_transform(ml_user_items[['playtime_forever']])\n",
    "\n",
    "# Eliminar las columnas playtime_forever\n",
    "ml_user_items = ml_user_items.drop(['playtime_forever'], axis=1)\n",
    "\n",
    "# elimnar duplicados\n",
    "ml_user_items = ml_user_items.drop_duplicates(subset=['item_id', 'user_id'])\n",
    "\n"
   ]
  },
  {
   "cell_type": "code",
   "execution_count": 59,
   "metadata": {},
   "outputs": [
    {
     "data": {
      "text/html": [
       "<div>\n",
       "<style scoped>\n",
       "    .dataframe tbody tr th:only-of-type {\n",
       "        vertical-align: middle;\n",
       "    }\n",
       "\n",
       "    .dataframe tbody tr th {\n",
       "        vertical-align: top;\n",
       "    }\n",
       "\n",
       "    .dataframe thead th {\n",
       "        text-align: right;\n",
       "    }\n",
       "</style>\n",
       "<table border=\"1\" class=\"dataframe\">\n",
       "  <thead>\n",
       "    <tr style=\"text-align: right;\">\n",
       "      <th></th>\n",
       "      <th>user_id</th>\n",
       "      <th>item_id</th>\n",
       "      <th>normalized_playtime</th>\n",
       "    </tr>\n",
       "  </thead>\n",
       "  <tbody>\n",
       "    <tr>\n",
       "      <th>0</th>\n",
       "      <td>syates</td>\n",
       "      <td>1002</td>\n",
       "      <td>0.094044</td>\n",
       "    </tr>\n",
       "    <tr>\n",
       "      <th>1</th>\n",
       "      <td>76561197973196808</td>\n",
       "      <td>1002</td>\n",
       "      <td>0.021944</td>\n",
       "    </tr>\n",
       "    <tr>\n",
       "      <th>2</th>\n",
       "      <td>76561198007521657</td>\n",
       "      <td>1002</td>\n",
       "      <td>0.037618</td>\n",
       "    </tr>\n",
       "    <tr>\n",
       "      <th>3</th>\n",
       "      <td>Blarghargh</td>\n",
       "      <td>1002</td>\n",
       "      <td>0.049373</td>\n",
       "    </tr>\n",
       "    <tr>\n",
       "      <th>4</th>\n",
       "      <td>76561197969407671</td>\n",
       "      <td>1002</td>\n",
       "      <td>0.006270</td>\n",
       "    </tr>\n",
       "    <tr>\n",
       "      <th>...</th>\n",
       "      <td>...</td>\n",
       "      <td>...</td>\n",
       "      <td>...</td>\n",
       "    </tr>\n",
       "    <tr>\n",
       "      <th>675015</th>\n",
       "      <td>Rhuri_AGA</td>\n",
       "      <td>9980</td>\n",
       "      <td>0.094044</td>\n",
       "    </tr>\n",
       "    <tr>\n",
       "      <th>675016</th>\n",
       "      <td>romakin</td>\n",
       "      <td>9980</td>\n",
       "      <td>0.007053</td>\n",
       "    </tr>\n",
       "    <tr>\n",
       "      <th>675017</th>\n",
       "      <td>TandyTandon</td>\n",
       "      <td>9980</td>\n",
       "      <td>0.015674</td>\n",
       "    </tr>\n",
       "    <tr>\n",
       "      <th>675018</th>\n",
       "      <td>2cq</td>\n",
       "      <td>9980</td>\n",
       "      <td>0.018809</td>\n",
       "    </tr>\n",
       "    <tr>\n",
       "      <th>675019</th>\n",
       "      <td>hackymidget</td>\n",
       "      <td>9980</td>\n",
       "      <td>0.021160</td>\n",
       "    </tr>\n",
       "  </tbody>\n",
       "</table>\n",
       "<p>525709 rows × 3 columns</p>\n",
       "</div>"
      ],
      "text/plain": [
       "                  user_id item_id  normalized_playtime\n",
       "0                  syates    1002             0.094044\n",
       "1       76561197973196808    1002             0.021944\n",
       "2       76561198007521657    1002             0.037618\n",
       "3              Blarghargh    1002             0.049373\n",
       "4       76561197969407671    1002             0.006270\n",
       "...                   ...     ...                  ...\n",
       "675015          Rhuri_AGA    9980             0.094044\n",
       "675016            romakin    9980             0.007053\n",
       "675017        TandyTandon    9980             0.015674\n",
       "675018                2cq    9980             0.018809\n",
       "675019        hackymidget    9980             0.021160\n",
       "\n",
       "[525709 rows x 3 columns]"
      ]
     },
     "execution_count": 59,
     "metadata": {},
     "output_type": "execute_result"
    }
   ],
   "source": [
    "ml_user_items "
   ]
  },
  {
   "cell_type": "code",
   "execution_count": 63,
   "metadata": {},
   "outputs": [],
   "source": [
    "# Especificamos el valor mínimo y el valor máximo de los tiempos y el dataset a utilizar\n",
    "reader = Reader(rating_scale=(ml_user_items[\"normalized_playtime\"].min(),ml_user_items[\"normalized_playtime\"].max()))\n",
    "\n",
    "# El objeto Dataset de Surprise nos permite leer datos \n",
    "dataset = Dataset.load_from_df(ml_user_items,reader)\n",
    "\n",
    "# Empleamos GridSearchCV con el algoritmo SVD y seteamos el parámetro refit a True con measures = [\"rmse\",\"fcp\"]\n",
    "param_grid = {'n_epochs': [5, 10], 'lr_all': [0.002, 0.005], 'reg_all': [0.4, 0.6]}\n",
    "\n",
    "gs = GridSearchCV(SVD, param_grid, measures=['fcp',\"rmse\"], cv=3, refit=True)\n",
    "\n",
    "# Entrenamos el modelo\n",
    "gs.fit(dataset)"
   ]
  },
  {
   "cell_type": "code",
   "execution_count": 64,
   "metadata": {},
   "outputs": [
    {
     "data": {
      "text/plain": [
       "{'fcp': {'n_epochs': 10, 'lr_all': 0.005, 'reg_all': 0.6},\n",
       " 'rmse': {'n_epochs': 10, 'lr_all': 0.005, 'reg_all': 0.4}}"
      ]
     },
     "execution_count": 64,
     "metadata": {},
     "output_type": "execute_result"
    }
   ],
   "source": [
    "# Mejor combinacion de parametros\n",
    "gs.best_params"
   ]
  },
  {
   "cell_type": "code",
   "execution_count": 65,
   "metadata": {},
   "outputs": [
    {
     "data": {
      "text/plain": [
       "{'fcp': 0.588281208478125, 'rmse': 0.18666702348096634}"
      ]
     },
     "execution_count": 65,
     "metadata": {},
     "output_type": "execute_result"
    }
   ],
   "source": [
    "# Mejor Score\n",
    "gs.best_score"
   ]
  },
  {
   "cell_type": "code",
   "execution_count": 66,
   "metadata": {},
   "outputs": [],
   "source": [
    "# Guardamos el modelo con mayor fcp\n",
    "best_model = gs.best_estimator[\"fcp\"]\n"
   ]
  },
  {
   "cell_type": "code",
   "execution_count": 67,
   "metadata": {},
   "outputs": [
    {
     "data": {
      "text/plain": [
       "0.06414271750674075"
      ]
     },
     "execution_count": 67,
     "metadata": {},
     "output_type": "execute_result"
    }
   ],
   "source": [
    "# Prediccion para user_id : syates,  item_id : 1002 (probamos el modelo)\n",
    "pred = best_model.predict(\"syates\", \"1002\")\n",
    "pred.est"
   ]
  },
  {
   "cell_type": "code",
   "execution_count": 68,
   "metadata": {},
   "outputs": [
    {
     "name": "stdout",
     "output_type": "stream",
     "text": [
      "Recomendaciones para el usuario syates:\n",
      "Item ID: 311560, Score: 0.3070807243356598\n",
      "Item ID: 349040, Score: 0.2938624710973123\n",
      "Item ID: 223100, Score: 0.28669939337377054\n",
      "Item ID: 252450, Score: 0.2865998862727887\n",
      "Item ID: 348470, Score: 0.28448476032609693\n"
     ]
    }
   ],
   "source": [
    "# Definir el user_id para el cual queremos hacer recomendaciones\n",
    "user_id = \"syates\"\n",
    "\n",
    "# Obtener todos los item_id en el dataset\n",
    "all_item_ids = ml_user_items[\"item_id\"].unique()\n",
    "\n",
    "# Obtener las predicciones para todos los item_id y seleccionar los 5 con la puntuación más alta\n",
    "predictions = [(item_id, best_model.predict(user_id, item_id).est) for item_id in all_item_ids]\n",
    "top_recommendations = sorted(predictions, key=lambda x: x[1], reverse=True)[:5]\n",
    "\n",
    "# Imprimir las recomendaciones\n",
    "print(f\"Recomendaciones para el usuario {user_id}:\")\n",
    "for item_id, score in top_recommendations:\n",
    "    print(f\"Item ID: {item_id}, Score: {score}\")\n",
    "\n"
   ]
  },
  {
   "cell_type": "code",
   "execution_count": 69,
   "metadata": {},
   "outputs": [],
   "source": [
    "# Lista para almacenar las predicciones\n",
    "all_predictions = []\n",
    "\n",
    "# Iterar sobre todos los user_id\n",
    "for user_id in ml_user_items[\"user_id\"].unique():\n",
    "    # Calcular las predicciones para todos los item_id\n",
    "    predictions = [(item_id, best_model.predict(user_id, item_id).est) for item_id in all_item_ids]\n",
    "    # Seleccionar los 5 item_id con las puntuaciones más altas\n",
    "    top_predictions = sorted(predictions, key=lambda x: x[1], reverse=True)[:5]\n",
    "    # Guardar los resultados en la lista\n",
    "    all_predictions.append({\"user_id\": user_id, \"top_5_item_id\": [item_id for item_id, _ in top_predictions]})\n",
    "\n",
    "# Convertir la lista de diccionarios en un DataFrame\n",
    "predictions_df = pd.DataFrame(all_predictions)\n",
    "\n"
   ]
  },
  {
   "cell_type": "code",
   "execution_count": 70,
   "metadata": {},
   "outputs": [
    {
     "data": {
      "text/html": [
       "<div>\n",
       "<style scoped>\n",
       "    .dataframe tbody tr th:only-of-type {\n",
       "        vertical-align: middle;\n",
       "    }\n",
       "\n",
       "    .dataframe tbody tr th {\n",
       "        vertical-align: top;\n",
       "    }\n",
       "\n",
       "    .dataframe thead th {\n",
       "        text-align: right;\n",
       "    }\n",
       "</style>\n",
       "<table border=\"1\" class=\"dataframe\">\n",
       "  <thead>\n",
       "    <tr style=\"text-align: right;\">\n",
       "      <th></th>\n",
       "      <th>user_id</th>\n",
       "      <th>top_5_item_id</th>\n",
       "    </tr>\n",
       "  </thead>\n",
       "  <tbody>\n",
       "    <tr>\n",
       "      <th>0</th>\n",
       "      <td>syates</td>\n",
       "      <td>[311560, 349040, 223100, 252450, 348470]</td>\n",
       "    </tr>\n",
       "    <tr>\n",
       "      <th>1</th>\n",
       "      <td>76561197973196808</td>\n",
       "      <td>[421050, 311560, 322520, 252450, 495700]</td>\n",
       "    </tr>\n",
       "    <tr>\n",
       "      <th>2</th>\n",
       "      <td>76561198007521657</td>\n",
       "      <td>[311560, 349040, 223100, 348470, 421050]</td>\n",
       "    </tr>\n",
       "    <tr>\n",
       "      <th>3</th>\n",
       "      <td>Blarghargh</td>\n",
       "      <td>[311560, 349040, 223100, 348470, 252450]</td>\n",
       "    </tr>\n",
       "    <tr>\n",
       "      <th>4</th>\n",
       "      <td>76561197969407671</td>\n",
       "      <td>[311560, 349040, 252450, 223100, 346940]</td>\n",
       "    </tr>\n",
       "    <tr>\n",
       "      <th>...</th>\n",
       "      <td>...</td>\n",
       "      <td>...</td>\n",
       "    </tr>\n",
       "    <tr>\n",
       "      <th>46332</th>\n",
       "      <td>76561198024357966</td>\n",
       "      <td>[385690, 404100, 442140, 447780, 34640]</td>\n",
       "    </tr>\n",
       "    <tr>\n",
       "      <th>46333</th>\n",
       "      <td>76561198068756102</td>\n",
       "      <td>[476920, 495700, 421030, 388540, 403940]</td>\n",
       "    </tr>\n",
       "    <tr>\n",
       "      <th>46334</th>\n",
       "      <td>76561198076743060</td>\n",
       "      <td>[522990, 487530, 449500, 453390, 437170]</td>\n",
       "    </tr>\n",
       "    <tr>\n",
       "      <th>46335</th>\n",
       "      <td>Joshugawa</td>\n",
       "      <td>[399240, 327940, 428240, 408640, 500590]</td>\n",
       "    </tr>\n",
       "    <tr>\n",
       "      <th>46336</th>\n",
       "      <td>middletwix</td>\n",
       "      <td>[372260, 434070, 316810, 423740, 514890]</td>\n",
       "    </tr>\n",
       "  </tbody>\n",
       "</table>\n",
       "<p>46337 rows × 2 columns</p>\n",
       "</div>"
      ],
      "text/plain": [
       "                 user_id                             top_5_item_id\n",
       "0                 syates  [311560, 349040, 223100, 252450, 348470]\n",
       "1      76561197973196808  [421050, 311560, 322520, 252450, 495700]\n",
       "2      76561198007521657  [311560, 349040, 223100, 348470, 421050]\n",
       "3             Blarghargh  [311560, 349040, 223100, 348470, 252450]\n",
       "4      76561197969407671  [311560, 349040, 252450, 223100, 346940]\n",
       "...                  ...                                       ...\n",
       "46332  76561198024357966   [385690, 404100, 442140, 447780, 34640]\n",
       "46333  76561198068756102  [476920, 495700, 421030, 388540, 403940]\n",
       "46334  76561198076743060  [522990, 487530, 449500, 453390, 437170]\n",
       "46335          Joshugawa  [399240, 327940, 428240, 408640, 500590]\n",
       "46336         middletwix  [372260, 434070, 316810, 423740, 514890]\n",
       "\n",
       "[46337 rows x 2 columns]"
      ]
     },
     "execution_count": 70,
     "metadata": {},
     "output_type": "execute_result"
    }
   ],
   "source": [
    "predictions_df"
   ]
  },
  {
   "cell_type": "code",
   "execution_count": 72,
   "metadata": {},
   "outputs": [],
   "source": [
    "def user_recomend(user_id):\n",
    "    row = predictions_df[predictions_df['user_id'] == user_id]\n",
    "    if not row.empty:\n",
    "        return row['top_5_item_id'].iloc[0]\n",
    "    else:\n",
    "        return \"User ID not found\"\n"
   ]
  },
  {
   "cell_type": "code",
   "execution_count": 90,
   "metadata": {},
   "outputs": [
    {
     "data": {
      "text/plain": [
       "['311560', '349040', '223100', '252450', '348470']"
      ]
     },
     "execution_count": 90,
     "metadata": {},
     "output_type": "execute_result"
    }
   ],
   "source": [
    "# Ejemplo de uso:\n",
    "user_recomend(\"syates\")"
   ]
  },
  {
   "cell_type": "code",
   "execution_count": 91,
   "metadata": {},
   "outputs": [],
   "source": [
    "# Abrimos el title_finder\n",
    "ruta_archivo_parquet = 'datasets/processed_data/data_for_funciones/title_finder.parquet'\n",
    "tabla_parquet = pq.read_table(ruta_archivo_parquet)\n",
    "title_finder = tabla_parquet.to_pandas()\n"
   ]
  },
  {
   "cell_type": "code",
   "execution_count": 92,
   "metadata": {},
   "outputs": [],
   "source": [
    "def user_recommend_with_titles(user_id):\n",
    "    row = predictions_df[predictions_df['user_id'] == user_id]\n",
    "    if not row.empty:\n",
    "        top_5_ids = row['top_5_item_id'].iloc[0][:5]  # Obtenemos los primeros 5 elementos de la lista\n",
    "        titles = []\n",
    "        for id in top_5_ids:\n",
    "            id = id.strip()  # Elimina espacios en blanco alrededor del item_id\n",
    "            title_row = title_finder[title_finder['item_id'] == id]['title']\n",
    "            if not title_row.empty:\n",
    "                titles.append(title_row.iloc[0])\n",
    "        return titles\n",
    "    else:\n",
    "        return \"User ID not found\"\n"
   ]
  },
  {
   "cell_type": "code",
   "execution_count": 93,
   "metadata": {},
   "outputs": [
    {
     "data": {
      "text/plain": [
       "['Assassin’s Creed® Rogue',\n",
       " 'NARUTO SHIPPUDEN: Ultimate Ninja STORM 4',\n",
       " 'Homefront®: The Revolution',\n",
       " 'StarDrive 2',\n",
       " 'SAMURAI WARRIORS 4-II']"
      ]
     },
     "execution_count": 93,
     "metadata": {},
     "output_type": "execute_result"
    }
   ],
   "source": [
    "user_recommend_with_titles(\"syates\")"
   ]
  },
  {
   "cell_type": "code",
   "execution_count": 81,
   "metadata": {},
   "outputs": [],
   "source": [
    "# exportamos los datos para la funcion en la API\n",
    "predictions_df.to_parquet('datasets/processed_data/data_for_funciones/recomendacion_usuario.parquet')\n",
    "predictions_df.to_csv('datasets/processed_data/data_for_funciones/recomendacion_usuario.csv')\n"
   ]
  }
 ],
 "metadata": {
  "kernelspec": {
   "display_name": "Python 3",
   "language": "python",
   "name": "python3"
  },
  "language_info": {
   "codemirror_mode": {
    "name": "ipython",
    "version": 3
   },
   "file_extension": ".py",
   "mimetype": "text/x-python",
   "name": "python",
   "nbconvert_exporter": "python",
   "pygments_lexer": "ipython3",
   "version": "3.9.0"
  }
 },
 "nbformat": 4,
 "nbformat_minor": 2
}
