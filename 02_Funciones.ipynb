{
 "cells": [
  {
   "cell_type": "code",
   "execution_count": 1,
   "metadata": {},
   "outputs": [],
   "source": [
    "import pandas as pd\n",
    "import pyarrow as pa\n",
    "import pyarrow.parquet as pq"
   ]
  },
  {
   "cell_type": "markdown",
   "metadata": {},
   "source": [
    "**def Developer( desarrollador: str )**\n",
    "\n",
    "Cantidad de items y porcentaje de contenido Free por año según empresa desarrolladora.\n",
    "\n",
    "**Ejemplo de uso:**\n",
    "\n",
    "```json\n",
    "{\n",
    " 'Año': [2008],\n",
    " 'Cantidad de Items': [1],\n",
    " 'Contenido Free': [100.0]\n",
    "}\n"
   ]
  },
  {
   "cell_type": "code",
   "execution_count": null,
   "metadata": {},
   "outputs": [],
   "source": []
  },
  {
   "cell_type": "markdown",
   "metadata": {},
   "source": [
    "**def UserData( user_id: str )**\n",
    "\n",
    "Esta funcion toma como argumento un user_id y devuelve cantidad de dinero gastado por el usuario, el porcentaje de recomendación en base a reviews.recommend y cantidad de items.\n",
    "\n",
    "**Ejemplo de retorno:**\n",
    "\n",
    "```json\n",
    "{\n",
    "  \"Usuario X\": \"us213ndjss09sdf\",\n",
    "  \"Dinero gastado\": \"200 USD\",\n",
    "  \"porcentaje de recomendación\": \"20%\",\n",
    "  \"Cantidad de items\": 5\n",
    "}"
   ]
  },
  {
   "cell_type": "code",
   "execution_count": null,
   "metadata": {},
   "outputs": [],
   "source": []
  },
  {
   "cell_type": "markdown",
   "metadata": {},
   "source": [
    "**def UserForGenre( genero: str )**\n",
    "\n",
    "Devuelve el usuario que acumula más horas jugadas para el género dado y una lista de la acumulación de horas jugadas por año de lanzamiento.\n",
    "\n",
    "**Ejemplo de retorno:**\n",
    "\n",
    "```json\n",
    "{\n",
    "  \"Usuario con más horas jugadas para Género X\": \"us213ndjss09sdf\",\n",
    "  \"Horas jugadas\": [\n",
    "    {\"Año\": 2013, \"Horas\": 203},\n",
    "    {\"Año\": 2012, \"Horas\": 100},\n",
    "    {\"Año\": 2011, \"Horas\": 23}\n",
    "  ]\n",
    "}\n"
   ]
  },
  {
   "cell_type": "code",
   "execution_count": null,
   "metadata": {},
   "outputs": [],
   "source": []
  },
  {
   "cell_type": "markdown",
   "metadata": {},
   "source": [
    "**def Best_Developer_Year( año: int )**\n",
    "\n",
    "Devuelve el top 3 de desarrolladores con juegos MÁS recomendados por usuarios para el año dado. (reviews.recommend = True y comentarios positivos)\n",
    "\n",
    "**Ejemplo de retorno:**\n",
    "\n",
    "```json\n",
    "[\n",
    "  {\"Puesto 1\": \"desarrollador_X\"},\n",
    "  {\"Puesto 2\": \"desarrollador_Y\"},\n",
    "  {\"Puesto 3\": \"desarrollador_Z\"}\n",
    "]\n"
   ]
  },
  {
   "cell_type": "code",
   "execution_count": null,
   "metadata": {},
   "outputs": [],
   "source": []
  },
  {
   "cell_type": "markdown",
   "metadata": {},
   "source": [
    "**def Developer_Reviews_Analysis( desarrolladora: str )**\n",
    "\n",
    "Según el desarrollador, se devuelve un diccionario con el nombre del desarrollador como llave y una lista con la cantidad total de registros de reseñas de usuarios que se encuentren categorizados con un análisis de sentimiento como valor positivo o negativo.\n",
    "\n",
    "**Ejemplo de retorno:**\n",
    "\n",
    "```json\n",
    "{\n",
    "  \"Valve\": {\n",
    "    \"Negative\": 182,\n",
    "    \"Positive\": 278\n",
    "  }\n",
    "}\n"
   ]
  },
  {
   "cell_type": "code",
   "execution_count": null,
   "metadata": {},
   "outputs": [],
   "source": []
  }
 ],
 "metadata": {
  "kernelspec": {
   "display_name": "Python 3",
   "language": "python",
   "name": "python3"
  },
  "language_info": {
   "codemirror_mode": {
    "name": "ipython",
    "version": 3
   },
   "file_extension": ".py",
   "mimetype": "text/x-python",
   "name": "python",
   "nbconvert_exporter": "python",
   "pygments_lexer": "ipython3",
   "version": "3.10.0"
  }
 },
 "nbformat": 4,
 "nbformat_minor": 2
}
