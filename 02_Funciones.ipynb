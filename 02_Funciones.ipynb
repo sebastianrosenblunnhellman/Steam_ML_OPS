{
 "cells": [
  {
   "cell_type": "code",
   "execution_count": 64,
   "metadata": {},
   "outputs": [],
   "source": [
    "import pandas as pd\n",
    "import pyarrow as pa\n",
    "import pyarrow.parquet as pq"
   ]
  },
  {
   "cell_type": "markdown",
   "metadata": {},
   "source": [
    ">Vamos a realizar por cada funcion una exportacion de los datos que la funcion debe consumir, ya listos, en un nuevo archivo.parquet. Luego crearemos la funcion de cosulta necesaria para recuperar los datos."
   ]
  },
  {
   "cell_type": "markdown",
   "metadata": {},
   "source": [
    "**def Developer( desarrollador: str )**\n",
    "\n",
    "Cantidad de items y porcentaje de contenido Free por año según empresa desarrolladora.\n",
    "\n",
    "**Ejemplo de uso:**\n",
    "\n",
    "```json\n",
    "{\n",
    " 'Año': [2008],\n",
    " 'Cantidad de Items': [1],\n",
    " 'Contenido Free': [100.0]\n",
    "}\n"
   ]
  },
  {
   "cell_type": "markdown",
   "metadata": {},
   "source": [
    "Exportacion de datos"
   ]
  },
  {
   "cell_type": "code",
   "execution_count": 65,
   "metadata": {},
   "outputs": [
    {
     "name": "stderr",
     "output_type": "stream",
     "text": [
      "C:\\Users\\sebas\\AppData\\Local\\Temp\\ipykernel_692\\2189582388.py:13: DeprecationWarning: DataFrameGroupBy.apply operated on the grouping columns. This behavior is deprecated, and in a future version of pandas the grouping columns will be excluded from the operation. Either pass `include_groups=False` to exclude the groupings or explicitly select the grouping columns after groupby to silence this warning.\n",
      "  free_items = grouped_data.apply(lambda x: (x[\"price\"] == 0.00).sum())\n"
     ]
    }
   ],
   "source": [
    "# Ruta del archivo Parquet\n",
    "archivo_parquet = 'datasets/processed_data/steam_games.parquet'\n",
    "\n",
    "# Utiliza PyArrow para leer el archivo Parquet\n",
    "tabla = pq.read_table(archivo_parquet)\n",
    "df_steam_games = tabla.to_pandas()\n",
    "\n",
    "# Agrupar por desarrollador y año\n",
    "grouped_data = df_steam_games.groupby([\"developer\", \"release_year\"])\n",
    "\n",
    "# Calcular la cantidad total de ítems y la cantidad de ítems gratuitos para cada desarrollador y año\n",
    "total_items = grouped_data[\"item_id\"].nunique()\n",
    "free_items = grouped_data.apply(lambda x: (x[\"price\"] == 0.00).sum())\n",
    "\n",
    "# Calcular el porcentaje de ítems gratuitos\n",
    "free_percentage = (free_items / total_items * 100).round(2).fillna(0)\n",
    "\n",
    "# Crear el DataFrame final\n",
    "result_df = pd.DataFrame({\n",
    "    \"Desarrollador\": total_items.index.get_level_values(0),\n",
    "    \"Año\": total_items.index.get_level_values(1),\n",
    "    \"Cantidad de Items\": total_items.values,\n",
    "    \"Contenido Free\": free_percentage.values\n",
    "})\n",
    "\n",
    "# Guardar el DataFrame en un archivo parquet\n",
    "result_df.to_parquet('Developer.parquet', index=False)"
   ]
  },
  {
   "cell_type": "markdown",
   "metadata": {},
   "source": [
    "Creamos la funcion"
   ]
  },
  {
   "cell_type": "code",
   "execution_count": 66,
   "metadata": {},
   "outputs": [],
   "source": [
    "def Developer(desarrollador: str):\n",
    "    # Cargar los datos desde el archivo Parquet\n",
    "    file_path = \"datasets/processed_data/data_for_funciones/Developer.parquet\"\n",
    "    table = pq.read_table(file_path)\n",
    "    df = table.to_pandas()\n",
    "    \n",
    "    # Filtrar el DataFrame por el desarrollador especificado\n",
    "    filtered_df = df[df['Desarrollador'] == desarrollador]\n",
    "    \n",
    "    # Calcular la cantidad total de items por año y el porcentaje de contenido gratuito\n",
    "    result = filtered_df.groupby('Año').agg({'Cantidad de Items': 'sum', 'Contenido Free': 'mean'}).reset_index()\n",
    "    \n",
    "    # Convertir los resultados a un diccionario en el formato deseado\n",
    "    output = {\n",
    "        'Año': result['Año'].tolist(),\n",
    "        'Cantidad de Items': result['Cantidad de Items'].tolist(),\n",
    "        'Contenido Free': result['Contenido Free'].tolist()\n",
    "    }\n",
    "    \n",
    "    return output\n",
    "\n"
   ]
  },
  {
   "cell_type": "code",
   "execution_count": 67,
   "metadata": {},
   "outputs": [
    {
     "data": {
      "text/plain": [
       "{'Año': [1998,\n",
       "  1999,\n",
       "  2000,\n",
       "  2001,\n",
       "  2003,\n",
       "  2004,\n",
       "  2006,\n",
       "  2007,\n",
       "  2008,\n",
       "  2009,\n",
       "  2010,\n",
       "  2011,\n",
       "  2012,\n",
       "  2017],\n",
       " 'Cantidad de Items': [1, 1, 2, 1, 1, 5, 2, 3, 1, 1, 2, 1, 1, 2],\n",
       " 'Contenido Free': [0.0,\n",
       "  0.0,\n",
       "  0.0,\n",
       "  0.0,\n",
       "  0.0,\n",
       "  0.0,\n",
       "  0.0,\n",
       "  33.33,\n",
       "  0.0,\n",
       "  0.0,\n",
       "  50.0,\n",
       "  0.0,\n",
       "  0.0,\n",
       "  0.0]}"
      ]
     },
     "execution_count": 67,
     "metadata": {},
     "output_type": "execute_result"
    }
   ],
   "source": [
    "# Ejemplo de uso\n",
    "Developer(\"Valve\")"
   ]
  },
  {
   "cell_type": "markdown",
   "metadata": {},
   "source": [
    "**def UserData( user_id: str )**\n",
    "\n",
    "Esta funcion toma como argumento un user_id y devuelve cantidad de dinero gastado por el usuario, el porcentaje de recomendación en base a reviews.recommend y cantidad de items.\n",
    "\n",
    "**Ejemplo de retorno:**\n",
    "\n",
    "```json\n",
    "{\n",
    "  \"Usuario X\": \"us213ndjss09sdf\",\n",
    "  \"Dinero gastado\": \"200 USD\",\n",
    "  \"porcentaje de recomendación\": \"20%\",\n",
    "  \"Cantidad de items\": 5\n",
    "}"
   ]
  },
  {
   "cell_type": "markdown",
   "metadata": {},
   "source": [
    "Exportacion de datos"
   ]
  },
  {
   "cell_type": "code",
   "execution_count": 70,
   "metadata": {},
   "outputs": [],
   "source": [
    "\n",
    "# Ruta de los archivos Parquet\n",
    "games_parquet = 'datasets/processed_data/steam_games.parquet'\n",
    "reviews_parquet = 'datasets/processed_data/user_reviews.parquet'\n",
    "\n",
    "# Utiliza PyArrow para leer el archivo Parquet\n",
    "tabla_games = pq.read_table(games_parquet)\n",
    "tabla_reviews = pq.read_table(reviews_parquet)\n",
    "\n",
    "# Leer las tablas en DataFrames de Pandas\n",
    "df_steam_games = tabla_games.to_pandas()\n",
    "df_user_reviews = tabla_reviews.to_pandas()\n",
    "\n",
    "# Merge de los DataFrames utilizando \"item_id\" como clave\n",
    "merged_df = pd.merge(df_steam_games, df_user_reviews, on='item_id', how='inner')\n",
    "\n",
    "# Lista de user_id únicos\n",
    "unique_user_ids = df_user_reviews['user_id'].unique()\n",
    "\n",
    "# Lista para almacenar todos los DataFrames de resultados\n",
    "all_results_dfs = []\n",
    "\n",
    "# Iterar sobre cada user_id y obtener la información\n",
    "for user_id in unique_user_ids:\n",
    "    user_data = merged_df[merged_df['user_id'] == user_id]\n",
    "\n",
    "    # Calcular dinero gastado\n",
    "    total_spent = round(user_data['price'].sum(), 2)\n",
    "\n",
    "    # Calcular el porcentaje de recomendación\n",
    "    total_items = user_data['item_id'].nunique()\n",
    "    if total_items != 0:\n",
    "        recommend_percentage = (user_data['recommend'].sum() / total_items) * 100\n",
    "    else:\n",
    "        recommend_percentage = 0\n",
    "\n",
    "    # Crear un DataFrame con los resultados\n",
    "    result_df = pd.DataFrame({\n",
    "        \"Usuario X\": [user_id],\n",
    "        \"Dinero gastado\": [f\"{total_spent} USD\"],\n",
    "        \"porcentaje de recomendación\": [f\"{recommend_percentage:.2f}%\"],\n",
    "        \"Cantidad de items\": [total_items]\n",
    "    })\n",
    "\n",
    "    # Agregar el DataFrame a la lista\n",
    "    all_results_dfs.append(result_df)\n",
    "\n",
    "# Concatenar todos los DataFrames en uno solo\n",
    "all_results_df = pd.concat(all_results_dfs, ignore_index=True)"
   ]
  },
  {
   "cell_type": "code",
   "execution_count": 73,
   "metadata": {},
   "outputs": [],
   "source": [
    "# Guardar el DataFrame en un archivo parquet\n",
    "all_results_df.to_parquet('UserData.parquet', index=False)"
   ]
  },
  {
   "cell_type": "markdown",
   "metadata": {},
   "source": [
    "Creamos funcion"
   ]
  },
  {
   "cell_type": "code",
   "execution_count": 76,
   "metadata": {},
   "outputs": [],
   "source": [
    "def UserData(user_id: str):\n",
    "    file_path = 'datasets/processed_data/data_for_funciones/UserData.parquet'\n",
    "    table = pq.read_table(file_path)\n",
    "    user_data = table.to_pandas()\n",
    "    \n",
    "    user_info = user_data[user_data['Usuario X'] == user_id].to_dict(orient='records')\n",
    "    \n",
    "    if user_info:\n",
    "        return user_info[0]\n",
    "    else:\n",
    "        return f\"No se encontraron datos para el usuario con ID: {user_id}\""
   ]
  },
  {
   "cell_type": "code",
   "execution_count": 77,
   "metadata": {},
   "outputs": [
    {
     "data": {
      "text/plain": [
       "{'Usuario X': 'evcentric',\n",
       " 'Dinero gastado': '68.94 USD',\n",
       " 'porcentaje de recomendación': '100.00%',\n",
       " 'Cantidad de items': 6}"
      ]
     },
     "execution_count": 77,
     "metadata": {},
     "output_type": "execute_result"
    }
   ],
   "source": [
    "UserData(\"evcentric\")\n"
   ]
  },
  {
   "cell_type": "markdown",
   "metadata": {},
   "source": [
    "**def UserForGenre( genero: str )**\n",
    "\n",
    "Devuelve el usuario que acumula más horas jugadas para el género dado y una lista de la acumulación de horas jugadas por año de lanzamiento.\n",
    "\n",
    "**Ejemplo de retorno:**\n",
    "\n",
    "```json\n",
    "{\n",
    "  \"Usuario con más horas jugadas para Género X\": \"us213ndjss09sdf\",\n",
    "  \"Horas jugadas\": [\n",
    "    {\"Año\": 2013, \"Horas\": 203},\n",
    "    {\"Año\": 2012, \"Horas\": 100},\n",
    "    {\"Año\": 2011, \"Horas\": 23}\n",
    "  ]\n",
    "}\n"
   ]
  },
  {
   "cell_type": "markdown",
   "metadata": {},
   "source": [
    "Exportamos datos"
   ]
  },
  {
   "cell_type": "code",
   "execution_count": 86,
   "metadata": {},
   "outputs": [],
   "source": [
    "\n",
    "# Ruta de los archivos Parquet\n",
    "games_parquet = \"datasets/processed_data/steam_games.parquet\"\n",
    "items_parquet = \"datasets/processed_data/user_items.parquet\"\n",
    "\n",
    "# Utiliza PyArrow para leer el archivo Parquet\n",
    "tabla_games = pq.read_table(games_parquet)\n",
    "tabla_items = pq.read_table(items_parquet)\n",
    "\n",
    "# Leer las tablas en DataFrames de Pandas\n",
    "df_steam_games = tabla_games.to_pandas()\n",
    "df_user_items = tabla_items.to_pandas()\n",
    "\n",
    "# Lista de géneros a analizar\n",
    "generos = ['Accounting', 'Action', 'Adventure', 'Animation &amp; Modeling',\n",
    "    'Audio Production', 'Casual', 'Design &amp; Illustration',\n",
    "    'Early Access', 'Education', 'Free to Play', 'Indie',\n",
    "    'Massively Multiplayer', 'Photo Editing', 'RPG', 'Racing', 'Simulation',\n",
    "    'Software Training', 'Sports', 'Strategy', 'Utilities',\n",
    "    'Video Production', 'Web Publishing']\n",
    "\n",
    "# Lista para almacenar los resultados de cada género\n",
    "resultados = []\n",
    "\n",
    "# Iterar sobre cada género\n",
    "for genero in generos:\n",
    "    # Filtra los juegos por el género especificado\n",
    "    juegos_filtrados = df_steam_games[df_steam_games['genres'].str.contains(genero, case=False, na=False)]\n",
    "\n",
    "    # Fusiona df_user_items y df_games basándose en item_id e id\n",
    "    df_fusionado = pd.merge(df_user_items, juegos_filtrados, left_on='item_id', right_on='item_id', how='inner')\n",
    "\n",
    "    # Agrupa por año y usuario, calcula el tiempo de juego por usuario por año\n",
    "    agrupado = df_fusionado.groupby(['release_year', 'user_id'])['playtime_forever'].sum().reset_index()\n",
    "\n",
    "    if len(agrupado) > 0:\n",
    "        # Encuentra al usuario con más tiempo de juego para el género dado\n",
    "        usuario_max = agrupado[agrupado['playtime_forever'] == agrupado.groupby('release_year')['playtime_forever'].transform('max')]['user_id'].values[0]\n",
    "\n",
    "        # Filtra los datos para el usuario con más tiempo de juego\n",
    "        datos_usuario = agrupado[agrupado['user_id'] == usuario_max]\n",
    "\n",
    "        # Elimina los años con 0 tiempo de juego\n",
    "        datos_usuario = datos_usuario[datos_usuario['playtime_forever'] > 0]\n",
    "\n",
    "        # Ordena los años en orden descendente\n",
    "        datos_usuario = datos_usuario.sort_values(by='release_year', ascending=False)\n",
    "\n",
    "        # Convierte el tiempo de juego a enteros\n",
    "        datos_usuario['playtime_forever'] = datos_usuario['playtime_forever'].astype(int)\n",
    "\n",
    "        # Crea una lista de tiempo de juego acumulado por año\n",
    "        horas_por_año = [{'Año': int(año), 'Horas': int(horas)} for año, horas in zip(datos_usuario['release_year'], datos_usuario['playtime_forever'])]\n",
    "\n",
    "        # Añadir el resultado a la lista de resultados\n",
    "        resultados.append({\"genero\": genero, \"usuario con mas horas jugadas\": usuario_max, \"Horas jugadas\": horas_por_año})\n",
    "    else:\n",
    "        resultados.append({\"genero\": genero, \"usuario con mas horas jugadas\": None, \"Horas jugadas\": []})\n",
    "\n",
    "# Convertir la lista de resultados en un DataFrame\n",
    "df_resultados = pd.DataFrame(resultados)\n"
   ]
  },
  {
   "cell_type": "code",
   "execution_count": 94,
   "metadata": {},
   "outputs": [
    {
     "data": {
      "text/plain": [
       "genero                           0\n",
       "usuario con mas horas jugadas    0\n",
       "Horas jugadas                    0\n",
       "dtype: int64"
      ]
     },
     "execution_count": 94,
     "metadata": {},
     "output_type": "execute_result"
    }
   ],
   "source": [
    "# Eliminar filas con valores nulos en el DataFrame\n",
    "df_resultados = df_resultados.dropna()"
   ]
  },
  {
   "cell_type": "code",
   "execution_count": 95,
   "metadata": {},
   "outputs": [],
   "source": [
    "# Guardar el DataFrame en un archivo parquet\n",
    "df_resultados.to_parquet('UserForGenre.parquet', index=False)"
   ]
  },
  {
   "cell_type": "markdown",
   "metadata": {},
   "source": [
    "Creamos funcion"
   ]
  },
  {
   "cell_type": "code",
   "execution_count": 106,
   "metadata": {},
   "outputs": [],
   "source": [
    "def UserForGenre(genero: str):\n",
    "    # Cargar los datos desde el archivo Parquet\n",
    "    table = pq.read_table('datasets/processed_data/data_for_funciones/UserForGenre.parquet')\n",
    "    data = table.to_pandas()\n",
    "\n",
    "    # Filtrar los datos por género\n",
    "    genre_data = data[data['genero'] == genero]\n",
    "\n",
    "    # Obtener el usuario con más horas jugadas para el género dado\n",
    "    max_hours_user = genre_data.loc[genre_data['Horas jugadas'].idxmax(), 'usuario con mas horas jugadas']\n",
    "\n",
    "    # Obtener las horas jugadas para el género dado\n",
    "    horas_jugadas = genre_data['Horas jugadas'].tolist()\n",
    "\n",
    "    # Formatear el resultado\n",
    "    result = {\n",
    "        \"Usuario con más horas jugadas para {}\".format(genero): max_hours_user,\n",
    "        \"Horas jugadas\": horas_jugadas\n",
    "    }\n",
    "\n",
    "    return result\n",
    "\n"
   ]
  },
  {
   "cell_type": "code",
   "execution_count": 107,
   "metadata": {},
   "outputs": [
    {
     "data": {
      "text/plain": [
       "{'Usuario con más horas jugadas para Action': '76561197966936422',\n",
       " 'Horas jugadas': [array([{'Año': 2016, 'Horas': 1366}, {'Año': 2015, 'Horas': 9708},\n",
       "         {'Año': 2014, 'Horas': 1416}, {'Año': 2013, 'Horas': 2095},\n",
       "         {'Año': 2012, 'Horas': 6380}, {'Año': 2011, 'Horas': 129},\n",
       "         {'Año': 2010, 'Horas': 36}, {'Año': 2009, 'Horas': 69},\n",
       "         {'Año': 2008, 'Horas': 13}, {'Año': 2007, 'Horas': 139},\n",
       "         {'Año': 2006, 'Horas': 15}, {'Año': 2004, 'Horas': 209},\n",
       "         {'Año': 2000, 'Horas': 10}, {'Año': 1998, 'Horas': 3},\n",
       "         {'Año': 1983, 'Horas': 331}], dtype=object)]}"
      ]
     },
     "execution_count": 107,
     "metadata": {},
     "output_type": "execute_result"
    }
   ],
   "source": [
    "# Ejemplo de uso\n",
    "UserForGenre(\"Action\")"
   ]
  },
  {
   "cell_type": "markdown",
   "metadata": {},
   "source": [
    "**def Best_Developer_Year( año: int )**\n",
    "\n",
    "Devuelve el top 3 de desarrolladores con juegos MÁS recomendados por usuarios para el año dado. (reviews.recommend = True y comentarios positivos)\n",
    "\n",
    "**Ejemplo de retorno:**\n",
    "\n",
    "```json\n",
    "[\n",
    "  {\"Puesto 1\": \"desarrollador_X\"},\n",
    "  {\"Puesto 2\": \"desarrollador_Y\"},\n",
    "  {\"Puesto 3\": \"desarrollador_Z\"}\n",
    "]\n"
   ]
  },
  {
   "cell_type": "markdown",
   "metadata": {},
   "source": [
    "Exportacion"
   ]
  },
  {
   "cell_type": "code",
   "execution_count": 108,
   "metadata": {},
   "outputs": [],
   "source": [
    "# Ruta de los archivos Parquet\n",
    "games_parquet = \"datasets/processed_data/steam_games.parquet\"\n",
    "reviews_parquet = \"datasets/processed_data/user_reviews.parquet\"\n"
   ]
  },
  {
   "cell_type": "code",
   "execution_count": 112,
   "metadata": {},
   "outputs": [
    {
     "name": "stdout",
     "output_type": "stream",
     "text": [
      "[2018 2017 1997 1998 2016 2006 2005 2003 2007 2002 2000 1995 1996 1994\n",
      " 2001 1993 2004 2008 2009 1999 1992 1989 2010 2011 2013 2012 2014 1983\n",
      " 1984 2015 1990 1988 1991 1987 1986 2021 2019 1985]\n"
     ]
    }
   ],
   "source": [
    "#Listamos los años unicos de nuestros datos\n",
    "unique_release_years = df_steam_games['release_year'].unique()\n",
    "print(unique_release_years)\n"
   ]
  },
  {
   "cell_type": "code",
   "execution_count": 146,
   "metadata": {},
   "outputs": [],
   "source": [
    "\n",
    "# Utiliza PyArrow para leer el archivo Parquet\n",
    "tabla_games = pq.read_table(games_parquet)\n",
    "tabla_reviews = pq.read_table(reviews_parquet)\n",
    "\n",
    "# Leer las tablas en DataFrames de Pandas\n",
    "df_steam_games = tabla_games.to_pandas()\n",
    "df_user_reviews = tabla_reviews.to_pandas()\n",
    "\n",
    "anios = [2018, 2017, 1997, 1998, 2016, 2006, 2005, 2003, 2007, 2002, 2000, 1995, 1996, 1994,\n",
    "2001, 1993, 2004, 2008, 2009, 1999, 1992, 1989, 2010, 2011, 2013, 2012, 2014, 1983,\n",
    "1984, 2015, 1990, 1988, 1991, 1987, 1986, 2021, 2019, 1985]\n",
    "\n",
    "resultados = []\n",
    "\n",
    "for anio in anios:\n",
    "    # Merge de los DataFrames utilizando \"item_id\" como clave\n",
    "    merged_df = pd.merge(df_steam_games, df_user_reviews, on='item_id', how='inner')\n",
    "\n",
    "    # Filtrar el DataFrame por el anio dado\n",
    "    df_filtered = merged_df[merged_df['release_year'] == anio]\n",
    "\n",
    "    # Filtrar por juegos recomendados y comentarios positivos\n",
    "    df_filtered = df_filtered[(df_filtered['recommend'] == True) & (df_filtered['sentiment_analysis'] == 2.0)]\n",
    "\n",
    "    # Agrupar por desarrollador y contar la cantidad de juegos recomendados\n",
    "    developer_counts = df_filtered.groupby('developer')['item_id'].count()\n",
    "\n",
    "    # Obtener los tres mejores desarrolladores\n",
    "    top_developers = developer_counts.nlargest(3)\n",
    "\n",
    "    # Crear el formato de salida\n",
    "    output = {\"Anio\": anio, \"Desarrolladores\": [{\"Puesto {}: \".format(i+1) + developer: count} for i, (developer, count) in enumerate(top_developers.items())]}\n",
    "    \n",
    "    resultados.append(output)\n",
    "    \n",
    "df_resultados = pd.DataFrame(resultados)"
   ]
  },
  {
   "cell_type": "code",
   "execution_count": 161,
   "metadata": {},
   "outputs": [],
   "source": [
    "# Filtrar filas con listas vacías en la columna 'Desarrolladores'\n",
    "df_resultados = df_resultados[df_resultados['Desarrolladores'].apply(lambda x: len(x) > 0)]"
   ]
  },
  {
   "cell_type": "code",
   "execution_count": 162,
   "metadata": {},
   "outputs": [
    {
     "data": {
      "text/html": [
       "<div>\n",
       "<style scoped>\n",
       "    .dataframe tbody tr th:only-of-type {\n",
       "        vertical-align: middle;\n",
       "    }\n",
       "\n",
       "    .dataframe tbody tr th {\n",
       "        vertical-align: top;\n",
       "    }\n",
       "\n",
       "    .dataframe thead th {\n",
       "        text-align: right;\n",
       "    }\n",
       "</style>\n",
       "<table border=\"1\" class=\"dataframe\">\n",
       "  <thead>\n",
       "    <tr style=\"text-align: right;\">\n",
       "      <th></th>\n",
       "      <th>Anio</th>\n",
       "      <th>Desarrolladores</th>\n",
       "    </tr>\n",
       "  </thead>\n",
       "  <tbody>\n",
       "    <tr>\n",
       "      <th>1</th>\n",
       "      <td>2017</td>\n",
       "      <td>[{'Puesto 1: Smartly Dressed Games': 827}, {'P...</td>\n",
       "    </tr>\n",
       "    <tr>\n",
       "      <th>2</th>\n",
       "      <td>1997</td>\n",
       "      <td>[{'Puesto 1: Oddworld Inhabitants': 17}, {'Pue...</td>\n",
       "    </tr>\n",
       "    <tr>\n",
       "      <th>3</th>\n",
       "      <td>1998</td>\n",
       "      <td>[{'Puesto 1: Valve': 50}, {'Puesto 2: Black Is...</td>\n",
       "    </tr>\n",
       "    <tr>\n",
       "      <th>4</th>\n",
       "      <td>2016</td>\n",
       "      <td>[{'Puesto 1: Chucklefish': 304}, {'Puesto 2: R...</td>\n",
       "    </tr>\n",
       "    <tr>\n",
       "      <th>5</th>\n",
       "      <td>2006</td>\n",
       "      <td>[{'Puesto 1: Facepunch Studios': 1499}, {'Pues...</td>\n",
       "    </tr>\n",
       "    <tr>\n",
       "      <th>6</th>\n",
       "      <td>2005</td>\n",
       "      <td>[{'Puesto 1: Pandemic Studios': 82}, {'Puesto ...</td>\n",
       "    </tr>\n",
       "    <tr>\n",
       "      <th>7</th>\n",
       "      <td>2003</td>\n",
       "      <td>[{'Puesto 1: Running With Scissors': 61}, {'Pu...</td>\n",
       "    </tr>\n",
       "    <tr>\n",
       "      <th>8</th>\n",
       "      <td>2007</td>\n",
       "      <td>[{'Puesto 1: Valve': 3408}, {'Puesto 2: 2K Bos...</td>\n",
       "    </tr>\n",
       "    <tr>\n",
       "      <th>9</th>\n",
       "      <td>2002</td>\n",
       "      <td>[{'Puesto 1: Bethesda Game Studios': 13}, {'Pu...</td>\n",
       "    </tr>\n",
       "    <tr>\n",
       "      <th>10</th>\n",
       "      <td>2000</td>\n",
       "      <td>[{'Puesto 1: Valve': 60}, {'Puesto 2: Ion Stor...</td>\n",
       "    </tr>\n",
       "    <tr>\n",
       "      <th>11</th>\n",
       "      <td>1995</td>\n",
       "      <td>[{'Puesto 1: LucasArts': 5}, {'Puesto 2: id So...</td>\n",
       "    </tr>\n",
       "    <tr>\n",
       "      <th>12</th>\n",
       "      <td>1996</td>\n",
       "      <td>[{'Puesto 1: Cyberdreams': 2}, {'Puesto 2: Hum...</td>\n",
       "    </tr>\n",
       "    <tr>\n",
       "      <th>13</th>\n",
       "      <td>1994</td>\n",
       "      <td>[{'Puesto 1: id Software': 7}, {'Puesto 2: Hum...</td>\n",
       "    </tr>\n",
       "    <tr>\n",
       "      <th>14</th>\n",
       "      <td>2001</td>\n",
       "      <td>[{'Puesto 1: Firaxis Games': 4}, {'Puesto 2: G...</td>\n",
       "    </tr>\n",
       "    <tr>\n",
       "      <th>15</th>\n",
       "      <td>1993</td>\n",
       "      <td>[{'Puesto 1: MicroProse Software, Inc': 2}, {'...</td>\n",
       "    </tr>\n",
       "    <tr>\n",
       "      <th>16</th>\n",
       "      <td>2004</td>\n",
       "      <td>[{'Puesto 1: Valve': 413}, {'Puesto 2: The Cre...</td>\n",
       "    </tr>\n",
       "    <tr>\n",
       "      <th>17</th>\n",
       "      <td>2008</td>\n",
       "      <td>[{'Puesto 1: Treyarch': 44}, {'Puesto 2: Maxis...</td>\n",
       "    </tr>\n",
       "    <tr>\n",
       "      <th>18</th>\n",
       "      <td>2009</td>\n",
       "      <td>[{'Puesto 1: Valve': 626}, {'Puesto 2: Tripwir...</td>\n",
       "    </tr>\n",
       "    <tr>\n",
       "      <th>19</th>\n",
       "      <td>1999</td>\n",
       "      <td>[{'Puesto 1: Sven Co-op Team': 20}, {'Puesto 2...</td>\n",
       "    </tr>\n",
       "    <tr>\n",
       "      <th>20</th>\n",
       "      <td>1992</td>\n",
       "      <td>[{'Puesto 1: 3D Realms (Apogee Software)': 1},...</td>\n",
       "    </tr>\n",
       "    <tr>\n",
       "      <th>21</th>\n",
       "      <td>1989</td>\n",
       "      <td>[{'Puesto 1: MicroProse Software, Inc': 1}]</td>\n",
       "    </tr>\n",
       "    <tr>\n",
       "      <th>22</th>\n",
       "      <td>2010</td>\n",
       "      <td>[{'Puesto 1: Firaxis Games,Aspyr (Mac, Linux)'...</td>\n",
       "    </tr>\n",
       "    <tr>\n",
       "      <th>23</th>\n",
       "      <td>2011</td>\n",
       "      <td>[{'Puesto 1: Re-Logic': 641}, {'Puesto 2: Valv...</td>\n",
       "    </tr>\n",
       "    <tr>\n",
       "      <th>24</th>\n",
       "      <td>2013</td>\n",
       "      <td>[{'Puesto 1: Bohemia Interactive': 675}, {'Pue...</td>\n",
       "    </tr>\n",
       "    <tr>\n",
       "      <th>25</th>\n",
       "      <td>2012</td>\n",
       "      <td>[{'Puesto 1: Valve': 3010}, {'Puesto 2: Gearbo...</td>\n",
       "    </tr>\n",
       "    <tr>\n",
       "      <th>26</th>\n",
       "      <td>2014</td>\n",
       "      <td>[{'Puesto 1: Edge of Reality': 282}, {'Puesto ...</td>\n",
       "    </tr>\n",
       "    <tr>\n",
       "      <th>29</th>\n",
       "      <td>2015</td>\n",
       "      <td>[{'Puesto 1: Psyonix, Inc.': 236}, {'Puesto 2:...</td>\n",
       "    </tr>\n",
       "    <tr>\n",
       "      <th>30</th>\n",
       "      <td>1990</td>\n",
       "      <td>[{'Puesto 1: id Software': 3}, {'Puesto 2: Luc...</td>\n",
       "    </tr>\n",
       "    <tr>\n",
       "      <th>32</th>\n",
       "      <td>1991</td>\n",
       "      <td>[{'Puesto 1: 3D Realms (Apogee Software)': 1}]</td>\n",
       "    </tr>\n",
       "  </tbody>\n",
       "</table>\n",
       "</div>"
      ],
      "text/plain": [
       "    Anio                                    Desarrolladores\n",
       "1   2017  [{'Puesto 1: Smartly Dressed Games': 827}, {'P...\n",
       "2   1997  [{'Puesto 1: Oddworld Inhabitants': 17}, {'Pue...\n",
       "3   1998  [{'Puesto 1: Valve': 50}, {'Puesto 2: Black Is...\n",
       "4   2016  [{'Puesto 1: Chucklefish': 304}, {'Puesto 2: R...\n",
       "5   2006  [{'Puesto 1: Facepunch Studios': 1499}, {'Pues...\n",
       "6   2005  [{'Puesto 1: Pandemic Studios': 82}, {'Puesto ...\n",
       "7   2003  [{'Puesto 1: Running With Scissors': 61}, {'Pu...\n",
       "8   2007  [{'Puesto 1: Valve': 3408}, {'Puesto 2: 2K Bos...\n",
       "9   2002  [{'Puesto 1: Bethesda Game Studios': 13}, {'Pu...\n",
       "10  2000  [{'Puesto 1: Valve': 60}, {'Puesto 2: Ion Stor...\n",
       "11  1995  [{'Puesto 1: LucasArts': 5}, {'Puesto 2: id So...\n",
       "12  1996  [{'Puesto 1: Cyberdreams': 2}, {'Puesto 2: Hum...\n",
       "13  1994  [{'Puesto 1: id Software': 7}, {'Puesto 2: Hum...\n",
       "14  2001  [{'Puesto 1: Firaxis Games': 4}, {'Puesto 2: G...\n",
       "15  1993  [{'Puesto 1: MicroProse Software, Inc': 2}, {'...\n",
       "16  2004  [{'Puesto 1: Valve': 413}, {'Puesto 2: The Cre...\n",
       "17  2008  [{'Puesto 1: Treyarch': 44}, {'Puesto 2: Maxis...\n",
       "18  2009  [{'Puesto 1: Valve': 626}, {'Puesto 2: Tripwir...\n",
       "19  1999  [{'Puesto 1: Sven Co-op Team': 20}, {'Puesto 2...\n",
       "20  1992  [{'Puesto 1: 3D Realms (Apogee Software)': 1},...\n",
       "21  1989        [{'Puesto 1: MicroProse Software, Inc': 1}]\n",
       "22  2010  [{'Puesto 1: Firaxis Games,Aspyr (Mac, Linux)'...\n",
       "23  2011  [{'Puesto 1: Re-Logic': 641}, {'Puesto 2: Valv...\n",
       "24  2013  [{'Puesto 1: Bohemia Interactive': 675}, {'Pue...\n",
       "25  2012  [{'Puesto 1: Valve': 3010}, {'Puesto 2: Gearbo...\n",
       "26  2014  [{'Puesto 1: Edge of Reality': 282}, {'Puesto ...\n",
       "29  2015  [{'Puesto 1: Psyonix, Inc.': 236}, {'Puesto 2:...\n",
       "30  1990  [{'Puesto 1: id Software': 3}, {'Puesto 2: Luc...\n",
       "32  1991     [{'Puesto 1: 3D Realms (Apogee Software)': 1}]"
      ]
     },
     "execution_count": 162,
     "metadata": {},
     "output_type": "execute_result"
    }
   ],
   "source": [
    "df_resultados"
   ]
  },
  {
   "cell_type": "code",
   "execution_count": 163,
   "metadata": {},
   "outputs": [],
   "source": [
    "# Guardar el DataFrame en un archivo parquet\n",
    "df_resultados.to_parquet('Best_Developer_Year.parquet', index=False)"
   ]
  },
  {
   "cell_type": "markdown",
   "metadata": {},
   "source": [
    "crear funcion"
   ]
  },
  {
   "cell_type": "code",
   "execution_count": 179,
   "metadata": {},
   "outputs": [],
   "source": [
    "import ast\n",
    "\n",
    "def Best_Developer_Year(año: int):\n",
    "    # Ruta de los archivos Parquet\n",
    "    Best_Developer_Year = 'datasets/processed_data/data_for_funciones/Best_Developer_Year.Parquet'\n",
    "\n",
    "    # Utiliza PyArrow para leer el archivo Parquet\n",
    "    tabla_Best_Developer_Year = pd.read_parquet(Best_Developer_Year)\n",
    "\n",
    "    # Filtrar por año\n",
    "    data_año = tabla_Best_Developer_Year[tabla_Best_Developer_Year['Anio'] == año]\n",
    "\n",
    "    # Obtener los desarrolladores para el año dado\n",
    "    if not data_año.empty:\n",
    "        desarrolladores = data_año['Desarrolladores'].iloc[0]\n",
    "        # Convertir la matriz numpy a lista de diccionarios\n",
    "        desarrolladores = desarrolladores.tolist()\n",
    "        desarrolladores = ast.literal_eval(str(desarrolladores))\n",
    "        return [{\"Puesto \" + str(i+1): list(d.keys())[0]} for i, d in enumerate(desarrolladores)]\n",
    "    else:\n",
    "        return \"No se encontraron datos para el año especificado.\"\n"
   ]
  },
  {
   "cell_type": "code",
   "execution_count": 177,
   "metadata": {},
   "outputs": [
    {
     "data": {
      "text/plain": [
       "[{'Puesto 1': 'Puesto 1: 3D Realms (Apogee Software)'},\n",
       " {'Puesto 2': 'Puesto 1: 3D Realms (Apogee Software)'},\n",
       " {'Puesto 3': 'Puesto 1: 3D Realms (Apogee Software)'}]"
      ]
     },
     "execution_count": 177,
     "metadata": {},
     "output_type": "execute_result"
    }
   ],
   "source": [
    "Best_Developer_Year(2010)"
   ]
  },
  {
   "cell_type": "markdown",
   "metadata": {},
   "source": [
    "**def Developer_Reviews_Analysis( desarrolladora: str )**\n",
    "\n",
    "Según el desarrollador, se devuelve un diccionario con el nombre del desarrollador como llave y una lista con la cantidad total de registros de reseñas de usuarios que se encuentren categorizados con un análisis de sentimiento como valor positivo o negativo.\n",
    "\n",
    "**Ejemplo de retorno:**\n",
    "\n",
    "```json\n",
    "{\n",
    "  \"Valve\": {\n",
    "    \"Negative\": 182,\n",
    "    \"Positive\": 278\n",
    "  }\n",
    "}\n"
   ]
  },
  {
   "cell_type": "markdown",
   "metadata": {},
   "source": [
    "exportacion"
   ]
  },
  {
   "cell_type": "code",
   "execution_count": 126,
   "metadata": {},
   "outputs": [],
   "source": [
    "# Ruta de los archivos Parquet\n",
    "games_parquet = \"datasets/processed_data/steam_games.parquet\"\n",
    "reviews_parquet = \"datasets/processed_data/user_reviews.parquet\"\n",
    "\n",
    "# Utiliza PyArrow para leer el archivo Parquet\n",
    "tabla_games = pq.read_table(games_parquet)\n",
    "tabla_reviews = pq.read_table(reviews_parquet)\n",
    "\n",
    "# Leer las tablas en DataFrames de Pandas\n",
    "df_steam_games = tabla_games.to_pandas()\n",
    "df_user_reviews = tabla_reviews.to_pandas()\n",
    "\n",
    "# Merge de los DataFrames utilizando \"item_id\" como clave\n",
    "merged_df = pd.merge(df_steam_games, df_user_reviews, on='item_id', how='inner')\n",
    "\n",
    "# Agrupar por desarrolladora y contar las reseñas positivas y negativas\n",
    "df_grouped = merged_df.groupby('developer')['sentiment_analysis'].value_counts().unstack(fill_value=0)\n",
    "\n",
    "# Reiniciar el índice para convertir la columna 'developer' en una columna regular\n",
    "df_grouped.reset_index(inplace=True)\n",
    "\n",
    "# Renombrar las columnas\n",
    "df_grouped.columns.name = None  # Eliminar el nombre de las columnas para una mejor presentación\n",
    "df_grouped.rename(columns={1.0: 'Negative', 2.0: 'Positive'}, inplace=True)\n",
    "\n"
   ]
  },
  {
   "cell_type": "code",
   "execution_count": 129,
   "metadata": {},
   "outputs": [],
   "source": [
    "# Guardar el DataFrame en un archivo parquet\n",
    "df_grouped.to_parquet('Developer_Reviews_Analysi.parquet', index=False)\n",
    "df_grouped.to_csv('Developer_Reviews_Analysi.csv', index=False)"
   ]
  },
  {
   "cell_type": "markdown",
   "metadata": {},
   "source": [
    "crear funcion"
   ]
  },
  {
   "cell_type": "code",
   "execution_count": 130,
   "metadata": {},
   "outputs": [
    {
     "name": "stdout",
     "output_type": "stream",
     "text": [
      "{'Valve': {'Negative': 10, 'Positive': 8353}}\n"
     ]
    }
   ],
   "source": [
    "import pandas as pd\n",
    "\n",
    "def Developer_Reviews_Analysis(desarrolladora: str):\n",
    "    table = pq.read_table('datasets/processed_data/data_for_funciones/Developer_Reviews.parquet')\n",
    "    df = table.to_pandas()\n",
    "    \n",
    "    # Filtrar el DataFrame para obtener las filas correspondientes a la desarrolladora proporcionada\n",
    "    filtered_df = df[df['developer'] == desarrolladora]\n",
    "    \n",
    "    # Calcular la suma de las reseñas positivas y negativas\n",
    "    total_negative = filtered_df['Negative'].sum()\n",
    "    total_positive = filtered_df['Positive'].sum()\n",
    "    \n",
    "    # Crear el diccionario de retorno\n",
    "    result = {\n",
    "        desarrolladora: {\n",
    "            \"Negative\": total_negative,\n",
    "            \"Positive\": total_positive\n",
    "        }\n",
    "    }\n",
    "    \n",
    "    return result\n",
    "\n",
    "# Ejemplo de uso\n",
    "print(Developer_Reviews_Analysis(\"Valve\"))\n"
   ]
  }
 ],
 "metadata": {
  "kernelspec": {
   "display_name": "Python 3",
   "language": "python",
   "name": "python3"
  },
  "language_info": {
   "codemirror_mode": {
    "name": "ipython",
    "version": 3
   },
   "file_extension": ".py",
   "mimetype": "text/x-python",
   "name": "python",
   "nbconvert_exporter": "python",
   "pygments_lexer": "ipython3",
   "version": "3.9.0"
  }
 },
 "nbformat": 4,
 "nbformat_minor": 2
}
