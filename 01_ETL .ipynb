{
 "cells": [
  {
   "cell_type": "code",
   "execution_count": 1,
   "metadata": {},
   "outputs": [
    {
     "name": "stderr",
     "output_type": "stream",
     "text": [
      "[nltk_data] Downloading package vader_lexicon to\n",
      "[nltk_data]     C:\\Users\\sebas\\AppData\\Roaming\\nltk_data...\n",
      "[nltk_data]   Package vader_lexicon is already up-to-date!\n"
     ]
    }
   ],
   "source": [
    "# Importamos las librerías generales\n",
    "import pandas as pd\n",
    "import json\n",
    "import gzip\n",
    "import numpy as np\n",
    "import pyarrow as pa\n",
    "import pyarrow.parquet as pq\n",
    "\n",
    "# Importamos las bibliotecas de procesamiento de texto y análisis de sentimiento\n",
    "import nltk\n",
    "nltk.download('vader_lexicon')\n",
    "from nltk.sentiment.vader import SentimentIntensityAnalyzer\n"
   ]
  },
  {
   "cell_type": "markdown",
   "metadata": {},
   "source": [
    "### Objetivos generales de ETL inicial\n",
    "\n",
    "- Importar correctamente datos de origen JSON.\n",
    "\n",
    "- De ser necesario. desanidar datos. \n",
    "\n",
    "- Eliminar columnas irrelevantes, manejar valores nulos y duplicados.\n",
    "\n",
    "- De ser necesario, normalizar tipo de datos.\n",
    "\n",
    "- Crear la columna \"sentiment_analysis\" aplicando NLP para el dataframe Reviews.\n",
    "\n",
    "- Realizar trasforamciones para la correcta utilizacion de los datos por parte de las funciones.\n",
    "\n",
    "- Guardar el dataset ya procesado en formato Parquet.\n"
   ]
  },
  {
   "cell_type": "markdown",
   "metadata": {},
   "source": [
    "# REVIEWS\n"
   ]
  },
  {
   "cell_type": "code",
   "execution_count": 37,
   "metadata": {},
   "outputs": [],
   "source": [
    "# Lista para almacenar diccionarios creados a partir de cada línea\n",
    "lista_user_reviews = []\n",
    "\n",
    "# Ruta del archivo comprimido en modo lectura\n",
    "archivo_comprimido = 'datasets/raw_data/user_reviews.json.gz'\n",
    "\n",
    "# Abrir el archivo comprimido y procesar cada línea\n",
    "with gzip.open(archivo_comprimido, 'rt', encoding='utf-8') as archivo:\n",
    "    for linea in archivo:\n",
    "        try:\n",
    "            # Utilizar eval para convertir cada línea en un diccionario\n",
    "            json_data = eval(linea)\n",
    "            lista_user_reviews.append(json_data)\n",
    "        except ValueError as e:\n",
    "            # Manejar errores al intentar evaluar la línea como un diccionario \n",
    "            print(f\"Error en la línea: {linea}\")\n",
    "            continue\n",
    "\n",
    "# Crear un DataFrame a partir de la lista de diccionarios\n",
    "reviews = pd.DataFrame(lista_user_reviews)\n",
    "# Creamos una copia para trabajar\n",
    "df_user_reviews = reviews.copy()\n"
   ]
  },
  {
   "cell_type": "code",
   "execution_count": 38,
   "metadata": {},
   "outputs": [
    {
     "data": {
      "text/html": [
       "<div>\n",
       "<style scoped>\n",
       "    .dataframe tbody tr th:only-of-type {\n",
       "        vertical-align: middle;\n",
       "    }\n",
       "\n",
       "    .dataframe tbody tr th {\n",
       "        vertical-align: top;\n",
       "    }\n",
       "\n",
       "    .dataframe thead th {\n",
       "        text-align: right;\n",
       "    }\n",
       "</style>\n",
       "<table border=\"1\" class=\"dataframe\">\n",
       "  <thead>\n",
       "    <tr style=\"text-align: right;\">\n",
       "      <th></th>\n",
       "      <th>user_id</th>\n",
       "      <th>user_url</th>\n",
       "      <th>reviews</th>\n",
       "    </tr>\n",
       "  </thead>\n",
       "  <tbody>\n",
       "    <tr>\n",
       "      <th>0</th>\n",
       "      <td>76561197970982479</td>\n",
       "      <td>http://steamcommunity.com/profiles/76561197970...</td>\n",
       "      <td>[{'funny': '', 'posted': 'Posted November 5, 2...</td>\n",
       "    </tr>\n",
       "    <tr>\n",
       "      <th>1</th>\n",
       "      <td>js41637</td>\n",
       "      <td>http://steamcommunity.com/id/js41637</td>\n",
       "      <td>[{'funny': '', 'posted': 'Posted June 24, 2014...</td>\n",
       "    </tr>\n",
       "    <tr>\n",
       "      <th>2</th>\n",
       "      <td>evcentric</td>\n",
       "      <td>http://steamcommunity.com/id/evcentric</td>\n",
       "      <td>[{'funny': '', 'posted': 'Posted February 3.',...</td>\n",
       "    </tr>\n",
       "    <tr>\n",
       "      <th>3</th>\n",
       "      <td>doctr</td>\n",
       "      <td>http://steamcommunity.com/id/doctr</td>\n",
       "      <td>[{'funny': '', 'posted': 'Posted October 14, 2...</td>\n",
       "    </tr>\n",
       "    <tr>\n",
       "      <th>4</th>\n",
       "      <td>maplemage</td>\n",
       "      <td>http://steamcommunity.com/id/maplemage</td>\n",
       "      <td>[{'funny': '3 people found this review funny',...</td>\n",
       "    </tr>\n",
       "  </tbody>\n",
       "</table>\n",
       "</div>"
      ],
      "text/plain": [
       "             user_id                                           user_url  \\\n",
       "0  76561197970982479  http://steamcommunity.com/profiles/76561197970...   \n",
       "1            js41637               http://steamcommunity.com/id/js41637   \n",
       "2          evcentric             http://steamcommunity.com/id/evcentric   \n",
       "3              doctr                 http://steamcommunity.com/id/doctr   \n",
       "4          maplemage             http://steamcommunity.com/id/maplemage   \n",
       "\n",
       "                                             reviews  \n",
       "0  [{'funny': '', 'posted': 'Posted November 5, 2...  \n",
       "1  [{'funny': '', 'posted': 'Posted June 24, 2014...  \n",
       "2  [{'funny': '', 'posted': 'Posted February 3.',...  \n",
       "3  [{'funny': '', 'posted': 'Posted October 14, 2...  \n",
       "4  [{'funny': '3 people found this review funny',...  "
      ]
     },
     "execution_count": 38,
     "metadata": {},
     "output_type": "execute_result"
    }
   ],
   "source": [
    "df_user_reviews.head() # hay datos anidados en reviews"
   ]
  },
  {
   "cell_type": "code",
   "execution_count": 39,
   "metadata": {},
   "outputs": [],
   "source": [
    "# Usamos json_normalize para extraer la informacion anindada en la columna 'reviews'\n",
    "df_user_reviews = pd.json_normalize(\n",
    "    # Utilizamos la lista creada al principio\n",
    "    data=lista_user_reviews, # Json_normalize solo admite objetos no serializados para funcionar\n",
    "    record_path='reviews', # Indicamos la columna con los datos anidados\n",
    "    meta=['user_id', 'user_url'] # Campos que se quieren corsevar\n",
    ")"
   ]
  },
  {
   "cell_type": "code",
   "execution_count": 40,
   "metadata": {},
   "outputs": [
    {
     "data": {
      "text/plain": [
       "Index(['funny', 'posted', 'last_edited', 'item_id', 'helpful', 'recommend',\n",
       "       'review', 'user_id', 'user_url'],\n",
       "      dtype='object')"
      ]
     },
     "execution_count": 40,
     "metadata": {},
     "output_type": "execute_result"
    }
   ],
   "source": [
    "# Hay columnas innecesarias\n",
    "df_user_reviews.columns\n"
   ]
  },
  {
   "cell_type": "code",
   "execution_count": 41,
   "metadata": {},
   "outputs": [],
   "source": [
    "# Eliminamos columnas innecesarias\n",
    "df_user_reviews.drop(['funny', 'posted', 'last_edited', 'helpful', 'user_url'], axis=1, inplace=True)"
   ]
  },
  {
   "cell_type": "code",
   "execution_count": 42,
   "metadata": {},
   "outputs": [
    {
     "data": {
      "text/html": [
       "<div>\n",
       "<style scoped>\n",
       "    .dataframe tbody tr th:only-of-type {\n",
       "        vertical-align: middle;\n",
       "    }\n",
       "\n",
       "    .dataframe tbody tr th {\n",
       "        vertical-align: top;\n",
       "    }\n",
       "\n",
       "    .dataframe thead th {\n",
       "        text-align: right;\n",
       "    }\n",
       "</style>\n",
       "<table border=\"1\" class=\"dataframe\">\n",
       "  <thead>\n",
       "    <tr style=\"text-align: right;\">\n",
       "      <th></th>\n",
       "      <th>item_id</th>\n",
       "      <th>recommend</th>\n",
       "      <th>review</th>\n",
       "      <th>user_id</th>\n",
       "    </tr>\n",
       "  </thead>\n",
       "  <tbody>\n",
       "    <tr>\n",
       "      <th>0</th>\n",
       "      <td>1250</td>\n",
       "      <td>True</td>\n",
       "      <td>Simple yet with great replayability. In my opi...</td>\n",
       "      <td>76561197970982479</td>\n",
       "    </tr>\n",
       "    <tr>\n",
       "      <th>1</th>\n",
       "      <td>22200</td>\n",
       "      <td>True</td>\n",
       "      <td>It's unique and worth a playthrough.</td>\n",
       "      <td>76561197970982479</td>\n",
       "    </tr>\n",
       "    <tr>\n",
       "      <th>2</th>\n",
       "      <td>43110</td>\n",
       "      <td>True</td>\n",
       "      <td>Great atmosphere. The gunplay can be a bit chu...</td>\n",
       "      <td>76561197970982479</td>\n",
       "    </tr>\n",
       "    <tr>\n",
       "      <th>3</th>\n",
       "      <td>251610</td>\n",
       "      <td>True</td>\n",
       "      <td>I know what you think when you see this title ...</td>\n",
       "      <td>js41637</td>\n",
       "    </tr>\n",
       "    <tr>\n",
       "      <th>4</th>\n",
       "      <td>227300</td>\n",
       "      <td>True</td>\n",
       "      <td>For a simple (it's actually not all that simpl...</td>\n",
       "      <td>js41637</td>\n",
       "    </tr>\n",
       "  </tbody>\n",
       "</table>\n",
       "</div>"
      ],
      "text/plain": [
       "  item_id  recommend                                             review  \\\n",
       "0    1250       True  Simple yet with great replayability. In my opi...   \n",
       "1   22200       True               It's unique and worth a playthrough.   \n",
       "2   43110       True  Great atmosphere. The gunplay can be a bit chu...   \n",
       "3  251610       True  I know what you think when you see this title ...   \n",
       "4  227300       True  For a simple (it's actually not all that simpl...   \n",
       "\n",
       "             user_id  \n",
       "0  76561197970982479  \n",
       "1  76561197970982479  \n",
       "2  76561197970982479  \n",
       "3            js41637  \n",
       "4            js41637  "
      ]
     },
     "execution_count": 42,
     "metadata": {},
     "output_type": "execute_result"
    }
   ],
   "source": [
    "df_user_reviews.head(5) # Observamos el resultado"
   ]
  },
  {
   "cell_type": "code",
   "execution_count": 43,
   "metadata": {},
   "outputs": [
    {
     "name": "stdout",
     "output_type": "stream",
     "text": [
      "Existen 874 valores duplicados \n",
      "\n",
      "item_id      0\n",
      "recommend    0\n",
      "review       0\n",
      "user_id      0\n",
      "dtype: int64\n"
     ]
    }
   ],
   "source": [
    "# Observamos si hay valores duplicados y nulos \n",
    "print(f\"Existen {df_user_reviews.duplicated().sum()} valores duplicados \\n\")\n",
    "print(df_user_reviews.isnull().sum())\n"
   ]
  },
  {
   "cell_type": "code",
   "execution_count": 44,
   "metadata": {},
   "outputs": [
    {
     "name": "stdout",
     "output_type": "stream",
     "text": [
      "Existen 0 valores duplicados\n"
     ]
    }
   ],
   "source": [
    "# Vemos que no hallamos valores faltantes\n",
    "\n",
    "# Eliminamos duplicados\n",
    "df_user_reviews = df_user_reviews.drop_duplicates()\n",
    "\n",
    "# Volvemos a observar duplicados\n",
    "print(f\"Existen {df_user_reviews.duplicated().sum()} valores duplicados\")\n"
   ]
  },
  {
   "cell_type": "markdown",
   "metadata": {},
   "source": [
    "> Vamos a crear la columna \"sentiment_analysis\" sobre df_user_reviews.review aplicando NLP."
   ]
  },
  {
   "cell_type": "code",
   "execution_count": 45,
   "metadata": {},
   "outputs": [],
   "source": [
    "# Inicializar el analizador de sentimientos\n",
    "sia = SentimentIntensityAnalyzer()"
   ]
  },
  {
   "cell_type": "code",
   "execution_count": 46,
   "metadata": {},
   "outputs": [],
   "source": [
    "# Función para asignar valores según la escala de sentimiento\n",
    "def obtener_puntuacion_sentimiento(texto):\n",
    "    if pd.isnull(texto) or texto == '':\n",
    "        return 1  # Devolver neutral si está vacío o es NaN\n",
    "    elif isinstance(texto, str):\n",
    "        sentimiento = sia.polarity_scores(texto)\n",
    "        puntuacion_compuesta = sentimiento['compound']\n",
    "        if puntuacion_compuesta >= -0.05:\n",
    "            return 2  # Buena puntuación\n",
    "        elif puntuacion_compuesta <= -0.05:\n",
    "            return 0  # Mala puntuación\n",
    "        else:\n",
    "            return 1\n",
    "    else: \n",
    "        return 1  # Devolver neutral para valores que no son str"
   ]
  },
  {
   "cell_type": "code",
   "execution_count": 47,
   "metadata": {},
   "outputs": [],
   "source": [
    "# Convertir la columna 'review' a cadena de texto\n",
    "df_user_reviews['review'] = df_user_reviews['review'].astype(str)\n"
   ]
  },
  {
   "cell_type": "code",
   "execution_count": 48,
   "metadata": {},
   "outputs": [],
   "source": [
    "\n",
    "# Aplicar la función obtener_puntuacion_sentimiento a la columna 'review'\n",
    "df_user_reviews['sentiment_analysis'] = df_user_reviews['review'].apply(obtener_puntuacion_sentimiento)\n",
    "\n"
   ]
  },
  {
   "cell_type": "code",
   "execution_count": 49,
   "metadata": {},
   "outputs": [],
   "source": [
    "# Eliminar la columna 'review' ya que no la necesitamos con 'sentiment_analysis'\n",
    "df_user_reviews = df_user_reviews.drop(columns=['review'], axis=1)"
   ]
  },
  {
   "cell_type": "code",
   "execution_count": 50,
   "metadata": {},
   "outputs": [
    {
     "data": {
      "text/html": [
       "<div>\n",
       "<style scoped>\n",
       "    .dataframe tbody tr th:only-of-type {\n",
       "        vertical-align: middle;\n",
       "    }\n",
       "\n",
       "    .dataframe tbody tr th {\n",
       "        vertical-align: top;\n",
       "    }\n",
       "\n",
       "    .dataframe thead th {\n",
       "        text-align: right;\n",
       "    }\n",
       "</style>\n",
       "<table border=\"1\" class=\"dataframe\">\n",
       "  <thead>\n",
       "    <tr style=\"text-align: right;\">\n",
       "      <th></th>\n",
       "      <th>item_id</th>\n",
       "      <th>recommend</th>\n",
       "      <th>user_id</th>\n",
       "      <th>sentiment_analysis</th>\n",
       "    </tr>\n",
       "  </thead>\n",
       "  <tbody>\n",
       "    <tr>\n",
       "      <th>0</th>\n",
       "      <td>1250</td>\n",
       "      <td>True</td>\n",
       "      <td>76561197970982479</td>\n",
       "      <td>2</td>\n",
       "    </tr>\n",
       "    <tr>\n",
       "      <th>1</th>\n",
       "      <td>22200</td>\n",
       "      <td>True</td>\n",
       "      <td>76561197970982479</td>\n",
       "      <td>2</td>\n",
       "    </tr>\n",
       "    <tr>\n",
       "      <th>2</th>\n",
       "      <td>43110</td>\n",
       "      <td>True</td>\n",
       "      <td>76561197970982479</td>\n",
       "      <td>2</td>\n",
       "    </tr>\n",
       "    <tr>\n",
       "      <th>3</th>\n",
       "      <td>251610</td>\n",
       "      <td>True</td>\n",
       "      <td>js41637</td>\n",
       "      <td>2</td>\n",
       "    </tr>\n",
       "    <tr>\n",
       "      <th>4</th>\n",
       "      <td>227300</td>\n",
       "      <td>True</td>\n",
       "      <td>js41637</td>\n",
       "      <td>2</td>\n",
       "    </tr>\n",
       "    <tr>\n",
       "      <th>...</th>\n",
       "      <td>...</td>\n",
       "      <td>...</td>\n",
       "      <td>...</td>\n",
       "      <td>...</td>\n",
       "    </tr>\n",
       "    <tr>\n",
       "      <th>59300</th>\n",
       "      <td>70</td>\n",
       "      <td>True</td>\n",
       "      <td>76561198312638244</td>\n",
       "      <td>2</td>\n",
       "    </tr>\n",
       "    <tr>\n",
       "      <th>59301</th>\n",
       "      <td>362890</td>\n",
       "      <td>True</td>\n",
       "      <td>76561198312638244</td>\n",
       "      <td>2</td>\n",
       "    </tr>\n",
       "    <tr>\n",
       "      <th>59302</th>\n",
       "      <td>273110</td>\n",
       "      <td>True</td>\n",
       "      <td>LydiaMorley</td>\n",
       "      <td>2</td>\n",
       "    </tr>\n",
       "    <tr>\n",
       "      <th>59303</th>\n",
       "      <td>730</td>\n",
       "      <td>True</td>\n",
       "      <td>LydiaMorley</td>\n",
       "      <td>2</td>\n",
       "    </tr>\n",
       "    <tr>\n",
       "      <th>59304</th>\n",
       "      <td>440</td>\n",
       "      <td>True</td>\n",
       "      <td>LydiaMorley</td>\n",
       "      <td>2</td>\n",
       "    </tr>\n",
       "  </tbody>\n",
       "</table>\n",
       "<p>58431 rows × 4 columns</p>\n",
       "</div>"
      ],
      "text/plain": [
       "      item_id  recommend            user_id  sentiment_analysis\n",
       "0        1250       True  76561197970982479                   2\n",
       "1       22200       True  76561197970982479                   2\n",
       "2       43110       True  76561197970982479                   2\n",
       "3      251610       True            js41637                   2\n",
       "4      227300       True            js41637                   2\n",
       "...       ...        ...                ...                 ...\n",
       "59300      70       True  76561198312638244                   2\n",
       "59301  362890       True  76561198312638244                   2\n",
       "59302  273110       True        LydiaMorley                   2\n",
       "59303     730       True        LydiaMorley                   2\n",
       "59304     440       True        LydiaMorley                   2\n",
       "\n",
       "[58431 rows x 4 columns]"
      ]
     },
     "execution_count": 50,
     "metadata": {},
     "output_type": "execute_result"
    }
   ],
   "source": [
    "# Vemos como queda el df\n",
    "df_user_reviews"
   ]
  },
  {
   "cell_type": "markdown",
   "metadata": {},
   "source": [
    "# ITEMS"
   ]
  },
  {
   "cell_type": "code",
   "execution_count": 13,
   "metadata": {},
   "outputs": [],
   "source": [
    "# Lista para almacenar diccionarios creados a partir de cada línea\n",
    "lista_users_items = []\n",
    "\n",
    "# Ruta del archivo comprimido en modo lectura\n",
    "archivo_comprimido_users_items = 'datasets/raw_data/users_items.json.gz'\n",
    "\n",
    "# Abrir el archivo comprimido y procesar cada línea\n",
    "with gzip.open(archivo_comprimido_users_items, 'rt', encoding='utf-8') as archivo_users_items:\n",
    "    for linea in archivo_users_items:\n",
    "        try:\n",
    "            # Utilizar eval para convertir cada línea en un diccionario\n",
    "            json_data = eval(linea)\n",
    "            lista_users_items.append(json_data)\n",
    "        except ValueError as e:\n",
    "            # Manejar errores al intentar evaluar la línea como un diccionario \n",
    "            print(f\"Error en la línea: {linea}\")\n",
    "            continue\n",
    "\n",
    "# Crear un DataFrame a partir de la lista de diccionarios\n",
    "items = pd.DataFrame(lista_users_items)\n",
    "# Creamos una copia para trabajar\n",
    "df_user_items = items.copy()"
   ]
  },
  {
   "cell_type": "code",
   "execution_count": 14,
   "metadata": {},
   "outputs": [
    {
     "data": {
      "text/html": [
       "<div>\n",
       "<style scoped>\n",
       "    .dataframe tbody tr th:only-of-type {\n",
       "        vertical-align: middle;\n",
       "    }\n",
       "\n",
       "    .dataframe tbody tr th {\n",
       "        vertical-align: top;\n",
       "    }\n",
       "\n",
       "    .dataframe thead th {\n",
       "        text-align: right;\n",
       "    }\n",
       "</style>\n",
       "<table border=\"1\" class=\"dataframe\">\n",
       "  <thead>\n",
       "    <tr style=\"text-align: right;\">\n",
       "      <th></th>\n",
       "      <th>user_id</th>\n",
       "      <th>items_count</th>\n",
       "      <th>steam_id</th>\n",
       "      <th>user_url</th>\n",
       "      <th>items</th>\n",
       "    </tr>\n",
       "  </thead>\n",
       "  <tbody>\n",
       "    <tr>\n",
       "      <th>0</th>\n",
       "      <td>76561197970982479</td>\n",
       "      <td>277</td>\n",
       "      <td>76561197970982479</td>\n",
       "      <td>http://steamcommunity.com/profiles/76561197970...</td>\n",
       "      <td>[{'item_id': '10', 'item_name': 'Counter-Strik...</td>\n",
       "    </tr>\n",
       "    <tr>\n",
       "      <th>1</th>\n",
       "      <td>js41637</td>\n",
       "      <td>888</td>\n",
       "      <td>76561198035864385</td>\n",
       "      <td>http://steamcommunity.com/id/js41637</td>\n",
       "      <td>[{'item_id': '10', 'item_name': 'Counter-Strik...</td>\n",
       "    </tr>\n",
       "    <tr>\n",
       "      <th>2</th>\n",
       "      <td>evcentric</td>\n",
       "      <td>137</td>\n",
       "      <td>76561198007712555</td>\n",
       "      <td>http://steamcommunity.com/id/evcentric</td>\n",
       "      <td>[{'item_id': '1200', 'item_name': 'Red Orchest...</td>\n",
       "    </tr>\n",
       "    <tr>\n",
       "      <th>3</th>\n",
       "      <td>Riot-Punch</td>\n",
       "      <td>328</td>\n",
       "      <td>76561197963445855</td>\n",
       "      <td>http://steamcommunity.com/id/Riot-Punch</td>\n",
       "      <td>[{'item_id': '10', 'item_name': 'Counter-Strik...</td>\n",
       "    </tr>\n",
       "    <tr>\n",
       "      <th>4</th>\n",
       "      <td>doctr</td>\n",
       "      <td>541</td>\n",
       "      <td>76561198002099482</td>\n",
       "      <td>http://steamcommunity.com/id/doctr</td>\n",
       "      <td>[{'item_id': '300', 'item_name': 'Day of Defea...</td>\n",
       "    </tr>\n",
       "  </tbody>\n",
       "</table>\n",
       "</div>"
      ],
      "text/plain": [
       "             user_id  items_count           steam_id  \\\n",
       "0  76561197970982479          277  76561197970982479   \n",
       "1            js41637          888  76561198035864385   \n",
       "2          evcentric          137  76561198007712555   \n",
       "3         Riot-Punch          328  76561197963445855   \n",
       "4              doctr          541  76561198002099482   \n",
       "\n",
       "                                            user_url  \\\n",
       "0  http://steamcommunity.com/profiles/76561197970...   \n",
       "1               http://steamcommunity.com/id/js41637   \n",
       "2             http://steamcommunity.com/id/evcentric   \n",
       "3            http://steamcommunity.com/id/Riot-Punch   \n",
       "4                 http://steamcommunity.com/id/doctr   \n",
       "\n",
       "                                               items  \n",
       "0  [{'item_id': '10', 'item_name': 'Counter-Strik...  \n",
       "1  [{'item_id': '10', 'item_name': 'Counter-Strik...  \n",
       "2  [{'item_id': '1200', 'item_name': 'Red Orchest...  \n",
       "3  [{'item_id': '10', 'item_name': 'Counter-Strik...  \n",
       "4  [{'item_id': '300', 'item_name': 'Day of Defea...  "
      ]
     },
     "execution_count": 14,
     "metadata": {},
     "output_type": "execute_result"
    }
   ],
   "source": [
    "df_user_items.head() # nuevamente, tenemos datos anidados en items"
   ]
  },
  {
   "cell_type": "code",
   "execution_count": 15,
   "metadata": {},
   "outputs": [],
   "source": [
    "# Usamos json_normalize para extraer la informacion anindada en la columna 'items'\n",
    "\n",
    "df_user_items = pd.json_normalize(\n",
    "    data=lista_users_items, # datos de origen en formato no serializado\n",
    "    record_path='items', # ruta de datos anidados\n",
    "    meta=['user_id' ] # campos que se quieren corsevar\n",
    ")"
   ]
  },
  {
   "cell_type": "code",
   "execution_count": 16,
   "metadata": {},
   "outputs": [
    {
     "data": {
      "text/plain": [
       "Index(['item_id', 'item_name', 'playtime_forever', 'playtime_2weeks',\n",
       "       'user_id'],\n",
       "      dtype='object')"
      ]
     },
     "execution_count": 16,
     "metadata": {},
     "output_type": "execute_result"
    }
   ],
   "source": [
    "# Vemos que tenemos columnas inecesarias\n",
    "df_user_items.columns"
   ]
  },
  {
   "cell_type": "code",
   "execution_count": 17,
   "metadata": {},
   "outputs": [
    {
     "data": {
      "text/html": [
       "<div>\n",
       "<style scoped>\n",
       "    .dataframe tbody tr th:only-of-type {\n",
       "        vertical-align: middle;\n",
       "    }\n",
       "\n",
       "    .dataframe tbody tr th {\n",
       "        vertical-align: top;\n",
       "    }\n",
       "\n",
       "    .dataframe thead th {\n",
       "        text-align: right;\n",
       "    }\n",
       "</style>\n",
       "<table border=\"1\" class=\"dataframe\">\n",
       "  <thead>\n",
       "    <tr style=\"text-align: right;\">\n",
       "      <th></th>\n",
       "      <th>item_id</th>\n",
       "      <th>playtime_forever</th>\n",
       "      <th>user_id</th>\n",
       "    </tr>\n",
       "  </thead>\n",
       "  <tbody>\n",
       "    <tr>\n",
       "      <th>0</th>\n",
       "      <td>10</td>\n",
       "      <td>6</td>\n",
       "      <td>76561197970982479</td>\n",
       "    </tr>\n",
       "    <tr>\n",
       "      <th>1</th>\n",
       "      <td>20</td>\n",
       "      <td>0</td>\n",
       "      <td>76561197970982479</td>\n",
       "    </tr>\n",
       "    <tr>\n",
       "      <th>2</th>\n",
       "      <td>30</td>\n",
       "      <td>7</td>\n",
       "      <td>76561197970982479</td>\n",
       "    </tr>\n",
       "    <tr>\n",
       "      <th>3</th>\n",
       "      <td>40</td>\n",
       "      <td>0</td>\n",
       "      <td>76561197970982479</td>\n",
       "    </tr>\n",
       "    <tr>\n",
       "      <th>4</th>\n",
       "      <td>50</td>\n",
       "      <td>0</td>\n",
       "      <td>76561197970982479</td>\n",
       "    </tr>\n",
       "  </tbody>\n",
       "</table>\n",
       "</div>"
      ],
      "text/plain": [
       "  item_id  playtime_forever            user_id\n",
       "0      10                 6  76561197970982479\n",
       "1      20                 0  76561197970982479\n",
       "2      30                 7  76561197970982479\n",
       "3      40                 0  76561197970982479\n",
       "4      50                 0  76561197970982479"
      ]
     },
     "execution_count": 17,
     "metadata": {},
     "output_type": "execute_result"
    }
   ],
   "source": [
    "# Eliminamos columnas innecesarias\n",
    "df_user_items.drop(['playtime_2weeks', 'item_name'], axis=1, inplace=True)\n",
    "\n",
    "# Observamos el resultado\n",
    "df_user_items.head(5)"
   ]
  },
  {
   "cell_type": "code",
   "execution_count": 18,
   "metadata": {},
   "outputs": [
    {
     "name": "stdout",
     "output_type": "stream",
     "text": [
      "Existen 59117 valores duplicados\n",
      "\n",
      "item_id             0\n",
      "playtime_forever    0\n",
      "user_id             0\n",
      "dtype: int64\n"
     ]
    }
   ],
   "source": [
    "# Observamos si hay duplicados y nulos \n",
    "print(f\"Existen {df_user_items.duplicated().sum()} valores duplicados\\n\")\n",
    "print(df_user_items.isnull().sum())"
   ]
  },
  {
   "cell_type": "code",
   "execution_count": 19,
   "metadata": {},
   "outputs": [
    {
     "name": "stdout",
     "output_type": "stream",
     "text": [
      "Existen 0 valores duplicados\n"
     ]
    }
   ],
   "source": [
    "# Eliminamos datos duplicados\n",
    "df_user_items = df_user_items.drop_duplicates()\n",
    "\n",
    "print(f\"Existen {df_user_items.duplicated().sum()} valores duplicados\")\n"
   ]
  },
  {
   "cell_type": "code",
   "execution_count": 20,
   "metadata": {},
   "outputs": [],
   "source": [
    "# Eliminar filas donde playtime_forever sea igual a 0\n",
    "df_user_items = df_user_items[df_user_items['playtime_forever'] != 0]"
   ]
  },
  {
   "cell_type": "markdown",
   "metadata": {},
   "source": [
    "# GAMES"
   ]
  },
  {
   "cell_type": "code",
   "execution_count": 94,
   "metadata": {},
   "outputs": [],
   "source": [
    "file_path = r'datasets\\raw_data\\steam_games.json.gz'\n",
    "\n",
    "with gzip.open(file_path, 'rt', encoding='utf-8') as file:\n",
    "    data = [json.loads(line) for line in file]\n",
    "\n",
    "# Convertir la lista de objetos JSON en un DataFrame\n",
    "games = pd.DataFrame(data)\n",
    "\n",
    "# Crear una copia para trabajar\n",
    "df_steam_games = games.copy()\n"
   ]
  },
  {
   "cell_type": "code",
   "execution_count": 78,
   "metadata": {},
   "outputs": [
    {
     "data": {
      "text/html": [
       "<div>\n",
       "<style scoped>\n",
       "    .dataframe tbody tr th:only-of-type {\n",
       "        vertical-align: middle;\n",
       "    }\n",
       "\n",
       "    .dataframe tbody tr th {\n",
       "        vertical-align: top;\n",
       "    }\n",
       "\n",
       "    .dataframe thead th {\n",
       "        text-align: right;\n",
       "    }\n",
       "</style>\n",
       "<table border=\"1\" class=\"dataframe\">\n",
       "  <thead>\n",
       "    <tr style=\"text-align: right;\">\n",
       "      <th></th>\n",
       "      <th>publisher</th>\n",
       "      <th>genres</th>\n",
       "      <th>app_name</th>\n",
       "      <th>title</th>\n",
       "      <th>url</th>\n",
       "      <th>release_date</th>\n",
       "      <th>tags</th>\n",
       "      <th>reviews_url</th>\n",
       "      <th>specs</th>\n",
       "      <th>price</th>\n",
       "      <th>early_access</th>\n",
       "      <th>id</th>\n",
       "      <th>developer</th>\n",
       "    </tr>\n",
       "  </thead>\n",
       "  <tbody>\n",
       "    <tr>\n",
       "      <th>0</th>\n",
       "      <td>NaN</td>\n",
       "      <td>NaN</td>\n",
       "      <td>NaN</td>\n",
       "      <td>NaN</td>\n",
       "      <td>NaN</td>\n",
       "      <td>NaN</td>\n",
       "      <td>NaN</td>\n",
       "      <td>NaN</td>\n",
       "      <td>NaN</td>\n",
       "      <td>NaN</td>\n",
       "      <td>NaN</td>\n",
       "      <td>NaN</td>\n",
       "      <td>NaN</td>\n",
       "    </tr>\n",
       "    <tr>\n",
       "      <th>1</th>\n",
       "      <td>NaN</td>\n",
       "      <td>NaN</td>\n",
       "      <td>NaN</td>\n",
       "      <td>NaN</td>\n",
       "      <td>NaN</td>\n",
       "      <td>NaN</td>\n",
       "      <td>NaN</td>\n",
       "      <td>NaN</td>\n",
       "      <td>NaN</td>\n",
       "      <td>NaN</td>\n",
       "      <td>NaN</td>\n",
       "      <td>NaN</td>\n",
       "      <td>NaN</td>\n",
       "    </tr>\n",
       "    <tr>\n",
       "      <th>2</th>\n",
       "      <td>NaN</td>\n",
       "      <td>NaN</td>\n",
       "      <td>NaN</td>\n",
       "      <td>NaN</td>\n",
       "      <td>NaN</td>\n",
       "      <td>NaN</td>\n",
       "      <td>NaN</td>\n",
       "      <td>NaN</td>\n",
       "      <td>NaN</td>\n",
       "      <td>NaN</td>\n",
       "      <td>NaN</td>\n",
       "      <td>NaN</td>\n",
       "      <td>NaN</td>\n",
       "    </tr>\n",
       "    <tr>\n",
       "      <th>3</th>\n",
       "      <td>NaN</td>\n",
       "      <td>NaN</td>\n",
       "      <td>NaN</td>\n",
       "      <td>NaN</td>\n",
       "      <td>NaN</td>\n",
       "      <td>NaN</td>\n",
       "      <td>NaN</td>\n",
       "      <td>NaN</td>\n",
       "      <td>NaN</td>\n",
       "      <td>NaN</td>\n",
       "      <td>NaN</td>\n",
       "      <td>NaN</td>\n",
       "      <td>NaN</td>\n",
       "    </tr>\n",
       "    <tr>\n",
       "      <th>4</th>\n",
       "      <td>NaN</td>\n",
       "      <td>NaN</td>\n",
       "      <td>NaN</td>\n",
       "      <td>NaN</td>\n",
       "      <td>NaN</td>\n",
       "      <td>NaN</td>\n",
       "      <td>NaN</td>\n",
       "      <td>NaN</td>\n",
       "      <td>NaN</td>\n",
       "      <td>NaN</td>\n",
       "      <td>NaN</td>\n",
       "      <td>NaN</td>\n",
       "      <td>NaN</td>\n",
       "    </tr>\n",
       "  </tbody>\n",
       "</table>\n",
       "</div>"
      ],
      "text/plain": [
       "  publisher genres app_name title  url release_date tags reviews_url specs  \\\n",
       "0       NaN    NaN      NaN   NaN  NaN          NaN  NaN         NaN   NaN   \n",
       "1       NaN    NaN      NaN   NaN  NaN          NaN  NaN         NaN   NaN   \n",
       "2       NaN    NaN      NaN   NaN  NaN          NaN  NaN         NaN   NaN   \n",
       "3       NaN    NaN      NaN   NaN  NaN          NaN  NaN         NaN   NaN   \n",
       "4       NaN    NaN      NaN   NaN  NaN          NaN  NaN         NaN   NaN   \n",
       "\n",
       "  price early_access   id developer  \n",
       "0   NaN          NaN  NaN       NaN  \n",
       "1   NaN          NaN  NaN       NaN  \n",
       "2   NaN          NaN  NaN       NaN  \n",
       "3   NaN          NaN  NaN       NaN  \n",
       "4   NaN          NaN  NaN       NaN  "
      ]
     },
     "execution_count": 78,
     "metadata": {},
     "output_type": "execute_result"
    }
   ],
   "source": [
    "df_steam_games.head()"
   ]
  },
  {
   "cell_type": "code",
   "execution_count": 79,
   "metadata": {},
   "outputs": [
    {
     "data": {
      "text/plain": [
       "publisher       96362\n",
       "genres          91593\n",
       "app_name        88312\n",
       "title           90360\n",
       "url             88310\n",
       "release_date    90377\n",
       "tags            88473\n",
       "reviews_url     88312\n",
       "specs           88980\n",
       "price           89687\n",
       "early_access    88310\n",
       "id              88312\n",
       "developer       91609\n",
       "dtype: int64"
      ]
     },
     "execution_count": 79,
     "metadata": {},
     "output_type": "execute_result"
    }
   ],
   "source": [
    "# Vemos que tenemos que lidear con una cantidad de NaN muy alta\n",
    "df_steam_games.isnull().sum()"
   ]
  },
  {
   "cell_type": "code",
   "execution_count": 80,
   "metadata": {},
   "outputs": [],
   "source": [
    "# Imputar semejante cantidad de fantantes es imposible\n",
    "df_steam_games.dropna(inplace=True) # eliminamos faltantes y asumimos la utilidad de los datos restantes"
   ]
  },
  {
   "cell_type": "code",
   "execution_count": 81,
   "metadata": {},
   "outputs": [
    {
     "data": {
      "text/plain": [
       "Index(['publisher', 'genres', 'app_name', 'title', 'url', 'release_date',\n",
       "       'tags', 'reviews_url', 'specs', 'price', 'early_access', 'id',\n",
       "       'developer'],\n",
       "      dtype='object')"
      ]
     },
     "execution_count": 81,
     "metadata": {},
     "output_type": "execute_result"
    }
   ],
   "source": [
    "# Vemos las columnas para descartar que no son pertinentes\n",
    "df_steam_games.columns"
   ]
  },
  {
   "cell_type": "code",
   "execution_count": 82,
   "metadata": {},
   "outputs": [],
   "source": [
    "# Vamos a quitar las columnas innecesarias\n",
    "df_steam_games = df_steam_games.drop([\"publisher\",\"app_name\",\"url\",\"reviews_url\",\n",
    "    \"specs\",\"early_access\"], axis=1)"
   ]
  },
  {
   "cell_type": "code",
   "execution_count": 83,
   "metadata": {},
   "outputs": [],
   "source": [
    "# El id corresponde a item_id en df_users_items, por tanto homologamos al nombre de dicho df\n",
    "df_steam_games = df_steam_games.rename(columns={'id': 'item_id'})\n"
   ]
  },
  {
   "cell_type": "code",
   "execution_count": 84,
   "metadata": {},
   "outputs": [],
   "source": [
    "# Quitamos los corchetes de genres para que la funcion pueda consumir la informacion correctamente\n",
    "\n",
    "# Lista de columnas a procesar\n",
    "cols = ['genres']\n",
    "\n",
    "# Itera a través de las columnas\n",
    "for i in cols:\n",
    "    # Convierte los valores de la columna en cadenas de texto\n",
    "    df_steam_games[i] = df_steam_games[i].astype(str)\n",
    "    \n",
    "    # Elimina los corchetes '[' ']' de los valores de la columna\n",
    "    df_steam_games[i] = df_steam_games[i].str.replace('[', '').str.replace(']', '')\n"
   ]
  },
  {
   "cell_type": "code",
   "execution_count": 85,
   "metadata": {},
   "outputs": [
    {
     "data": {
      "text/html": [
       "<div>\n",
       "<style scoped>\n",
       "    .dataframe tbody tr th:only-of-type {\n",
       "        vertical-align: middle;\n",
       "    }\n",
       "\n",
       "    .dataframe tbody tr th {\n",
       "        vertical-align: top;\n",
       "    }\n",
       "\n",
       "    .dataframe thead th {\n",
       "        text-align: right;\n",
       "    }\n",
       "</style>\n",
       "<table border=\"1\" class=\"dataframe\">\n",
       "  <thead>\n",
       "    <tr style=\"text-align: right;\">\n",
       "      <th></th>\n",
       "      <th>genres</th>\n",
       "      <th>title</th>\n",
       "      <th>release_date</th>\n",
       "      <th>tags</th>\n",
       "      <th>price</th>\n",
       "      <th>item_id</th>\n",
       "      <th>developer</th>\n",
       "    </tr>\n",
       "  </thead>\n",
       "  <tbody>\n",
       "    <tr>\n",
       "      <th>88310</th>\n",
       "      <td>'Action', 'Casual', 'Indie', 'Simulation', 'St...</td>\n",
       "      <td>Lost Summoner Kitty</td>\n",
       "      <td>2018-01-04</td>\n",
       "      <td>[Strategy, Action, Indie, Casual, Simulation]</td>\n",
       "      <td>4.99</td>\n",
       "      <td>761140</td>\n",
       "      <td>Kotoshiro</td>\n",
       "    </tr>\n",
       "    <tr>\n",
       "      <th>88311</th>\n",
       "      <td>'Free to Play', 'Indie', 'RPG', 'Strategy'</td>\n",
       "      <td>Ironbound</td>\n",
       "      <td>2018-01-04</td>\n",
       "      <td>[Free to Play, Strategy, Indie, RPG, Card Game...</td>\n",
       "      <td>Free To Play</td>\n",
       "      <td>643980</td>\n",
       "      <td>Secret Level SRL</td>\n",
       "    </tr>\n",
       "    <tr>\n",
       "      <th>88312</th>\n",
       "      <td>'Casual', 'Free to Play', 'Indie', 'Simulation...</td>\n",
       "      <td>Real Pool 3D - Poolians</td>\n",
       "      <td>2017-07-24</td>\n",
       "      <td>[Free to Play, Simulation, Sports, Casual, Ind...</td>\n",
       "      <td>Free to Play</td>\n",
       "      <td>670290</td>\n",
       "      <td>Poolians.com</td>\n",
       "    </tr>\n",
       "    <tr>\n",
       "      <th>88313</th>\n",
       "      <td>'Action', 'Adventure', 'Casual'</td>\n",
       "      <td>弹炸人2222</td>\n",
       "      <td>2017-12-07</td>\n",
       "      <td>[Action, Adventure, Casual]</td>\n",
       "      <td>0.99</td>\n",
       "      <td>767400</td>\n",
       "      <td>彼岸领域</td>\n",
       "    </tr>\n",
       "    <tr>\n",
       "      <th>88315</th>\n",
       "      <td>'Action', 'Adventure', 'Simulation'</td>\n",
       "      <td>Battle Royale Trainer</td>\n",
       "      <td>2018-01-04</td>\n",
       "      <td>[Action, Adventure, Simulation, FPS, Shooter, ...</td>\n",
       "      <td>3.99</td>\n",
       "      <td>772540</td>\n",
       "      <td>Trickjump Games Ltd</td>\n",
       "    </tr>\n",
       "    <tr>\n",
       "      <th>...</th>\n",
       "      <td>...</td>\n",
       "      <td>...</td>\n",
       "      <td>...</td>\n",
       "      <td>...</td>\n",
       "      <td>...</td>\n",
       "      <td>...</td>\n",
       "      <td>...</td>\n",
       "    </tr>\n",
       "    <tr>\n",
       "      <th>120439</th>\n",
       "      <td>'Action', 'Adventure', 'Casual', 'Indie'</td>\n",
       "      <td>Kebab it Up!</td>\n",
       "      <td>2018-01-04</td>\n",
       "      <td>[Action, Indie, Casual, Violent, Adventure]</td>\n",
       "      <td>1.99</td>\n",
       "      <td>745400</td>\n",
       "      <td>Bidoniera Games</td>\n",
       "    </tr>\n",
       "    <tr>\n",
       "      <th>120440</th>\n",
       "      <td>'Casual', 'Indie', 'Simulation', 'Strategy'</td>\n",
       "      <td>Colony On Mars</td>\n",
       "      <td>2018-01-04</td>\n",
       "      <td>[Strategy, Indie, Casual, Simulation]</td>\n",
       "      <td>1.99</td>\n",
       "      <td>773640</td>\n",
       "      <td>Nikita \"Ghost_RUS\"</td>\n",
       "    </tr>\n",
       "    <tr>\n",
       "      <th>120441</th>\n",
       "      <td>'Casual', 'Indie', 'Strategy'</td>\n",
       "      <td>LOGistICAL: South Africa</td>\n",
       "      <td>2018-01-04</td>\n",
       "      <td>[Strategy, Indie, Casual]</td>\n",
       "      <td>4.99</td>\n",
       "      <td>733530</td>\n",
       "      <td>Sacada</td>\n",
       "    </tr>\n",
       "    <tr>\n",
       "      <th>120442</th>\n",
       "      <td>'Indie', 'Racing', 'Simulation'</td>\n",
       "      <td>Russian Roads</td>\n",
       "      <td>2018-01-04</td>\n",
       "      <td>[Indie, Simulation, Racing]</td>\n",
       "      <td>1.99</td>\n",
       "      <td>610660</td>\n",
       "      <td>Laush Dmitriy Sergeevich</td>\n",
       "    </tr>\n",
       "    <tr>\n",
       "      <th>120443</th>\n",
       "      <td>'Casual', 'Indie'</td>\n",
       "      <td>EXIT 2 - Directions</td>\n",
       "      <td>2017-09-02</td>\n",
       "      <td>[Indie, Casual, Puzzle, Singleplayer, Atmosphe...</td>\n",
       "      <td>4.99</td>\n",
       "      <td>658870</td>\n",
       "      <td>xropi,stev3ns</td>\n",
       "    </tr>\n",
       "  </tbody>\n",
       "</table>\n",
       "<p>22530 rows × 7 columns</p>\n",
       "</div>"
      ],
      "text/plain": [
       "                                                   genres  \\\n",
       "88310   'Action', 'Casual', 'Indie', 'Simulation', 'St...   \n",
       "88311          'Free to Play', 'Indie', 'RPG', 'Strategy'   \n",
       "88312   'Casual', 'Free to Play', 'Indie', 'Simulation...   \n",
       "88313                     'Action', 'Adventure', 'Casual'   \n",
       "88315                 'Action', 'Adventure', 'Simulation'   \n",
       "...                                                   ...   \n",
       "120439           'Action', 'Adventure', 'Casual', 'Indie'   \n",
       "120440        'Casual', 'Indie', 'Simulation', 'Strategy'   \n",
       "120441                      'Casual', 'Indie', 'Strategy'   \n",
       "120442                    'Indie', 'Racing', 'Simulation'   \n",
       "120443                                  'Casual', 'Indie'   \n",
       "\n",
       "                           title release_date  \\\n",
       "88310        Lost Summoner Kitty   2018-01-04   \n",
       "88311                  Ironbound   2018-01-04   \n",
       "88312    Real Pool 3D - Poolians   2017-07-24   \n",
       "88313                    弹炸人2222   2017-12-07   \n",
       "88315      Battle Royale Trainer   2018-01-04   \n",
       "...                          ...          ...   \n",
       "120439              Kebab it Up!   2018-01-04   \n",
       "120440            Colony On Mars   2018-01-04   \n",
       "120441  LOGistICAL: South Africa   2018-01-04   \n",
       "120442             Russian Roads   2018-01-04   \n",
       "120443       EXIT 2 - Directions   2017-09-02   \n",
       "\n",
       "                                                     tags         price  \\\n",
       "88310       [Strategy, Action, Indie, Casual, Simulation]          4.99   \n",
       "88311   [Free to Play, Strategy, Indie, RPG, Card Game...  Free To Play   \n",
       "88312   [Free to Play, Simulation, Sports, Casual, Ind...  Free to Play   \n",
       "88313                         [Action, Adventure, Casual]          0.99   \n",
       "88315   [Action, Adventure, Simulation, FPS, Shooter, ...          3.99   \n",
       "...                                                   ...           ...   \n",
       "120439        [Action, Indie, Casual, Violent, Adventure]          1.99   \n",
       "120440              [Strategy, Indie, Casual, Simulation]          1.99   \n",
       "120441                          [Strategy, Indie, Casual]          4.99   \n",
       "120442                        [Indie, Simulation, Racing]          1.99   \n",
       "120443  [Indie, Casual, Puzzle, Singleplayer, Atmosphe...          4.99   \n",
       "\n",
       "       item_id                 developer  \n",
       "88310   761140                 Kotoshiro  \n",
       "88311   643980          Secret Level SRL  \n",
       "88312   670290              Poolians.com  \n",
       "88313   767400                      彼岸领域  \n",
       "88315   772540       Trickjump Games Ltd  \n",
       "...        ...                       ...  \n",
       "120439  745400           Bidoniera Games  \n",
       "120440  773640        Nikita \"Ghost_RUS\"  \n",
       "120441  733530                    Sacada  \n",
       "120442  610660  Laush Dmitriy Sergeevich  \n",
       "120443  658870             xropi,stev3ns  \n",
       "\n",
       "[22530 rows x 7 columns]"
      ]
     },
     "execution_count": 85,
     "metadata": {},
     "output_type": "execute_result"
    }
   ],
   "source": [
    "df_steam_games"
   ]
  },
  {
   "cell_type": "code",
   "execution_count": 86,
   "metadata": {},
   "outputs": [],
   "source": [
    "# Creamos la columna release_year para trabajar unicamente con el año\n",
    "df_steam_games[\"release_year\"] = df_steam_games[\"release_date\"]\n",
    "\n",
    "# Eliminamos la columna original \n",
    "del df_steam_games[\"release_date\"]\n",
    "\n",
    "\n",
    "# Convertir la columna \"release_date\" al formato de fecha, permitiendo que Pandas infiera el formato\n",
    "df_steam_games[\"release_year\"] = pd.to_datetime(df_steam_games[\"release_year\"], format='mixed', errors='coerce')\n",
    "\n",
    "#  Colocar solo el año de la fecha en \"release_date\" \n",
    "df_steam_games[\"release_year\"] = df_steam_games[\"release_year\"].dt.year"
   ]
  },
  {
   "cell_type": "code",
   "execution_count": 87,
   "metadata": {},
   "outputs": [
    {
     "data": {
      "text/plain": [
       "2"
      ]
     },
     "execution_count": 87,
     "metadata": {},
     "output_type": "execute_result"
    }
   ],
   "source": [
    "# El parametro errors='coerce' convierte en nulos los datos que no se pueden inferir.\n",
    "\n",
    "# Contamos los nulos resultantes\n",
    "df_steam_games[\"release_year\"].isnull().sum()"
   ]
  },
  {
   "cell_type": "code",
   "execution_count": 88,
   "metadata": {},
   "outputs": [],
   "source": [
    "# Los eliminamos ya que no representan una cantidad significativa\n",
    "df_steam_games.dropna(inplace=True) \n"
   ]
  },
  {
   "cell_type": "code",
   "execution_count": 89,
   "metadata": {},
   "outputs": [],
   "source": [
    "# Cambiamos los valores de \"release_date\" a tipo entero\n",
    "df_steam_games[\"release_year\"] = df_steam_games[\"release_year\"].astype(int)"
   ]
  },
  {
   "cell_type": "code",
   "execution_count": 90,
   "metadata": {},
   "outputs": [],
   "source": [
    "# Vamos a pasar los str que refieran a juesgos gratuitos a 0.00 \n",
    "# y luego pasar todos los precios a float\n",
    "\n",
    "# Función para convertir los valores de la columna \"price\"\n",
    "def convertir_precio(valor):\n",
    "    try:\n",
    "        # Intentar convertir a flotante\n",
    "        return float(valor)\n",
    "    except ValueError:\n",
    "        # Si no se puede convertir, verificar si es \"Free To Play\"\n",
    "        if \"Free\" in valor:\n",
    "            return 0.0\n",
    "        else:\n",
    "            # Si no es ninguno de los casos anteriores, asignar 0.0\n",
    "            return 0.0\n",
    "\n",
    "# Aplicar la función a la columna \"price\" del DataFrame\n",
    "df_steam_games['price'] = df_steam_games['price'].apply(convertir_precio)\n"
   ]
  },
  {
   "cell_type": "code",
   "execution_count": 91,
   "metadata": {},
   "outputs": [
    {
     "data": {
      "text/html": [
       "<div>\n",
       "<style scoped>\n",
       "    .dataframe tbody tr th:only-of-type {\n",
       "        vertical-align: middle;\n",
       "    }\n",
       "\n",
       "    .dataframe tbody tr th {\n",
       "        vertical-align: top;\n",
       "    }\n",
       "\n",
       "    .dataframe thead th {\n",
       "        text-align: right;\n",
       "    }\n",
       "</style>\n",
       "<table border=\"1\" class=\"dataframe\">\n",
       "  <thead>\n",
       "    <tr style=\"text-align: right;\">\n",
       "      <th></th>\n",
       "      <th>genres</th>\n",
       "      <th>title</th>\n",
       "      <th>tags</th>\n",
       "      <th>price</th>\n",
       "      <th>item_id</th>\n",
       "      <th>developer</th>\n",
       "      <th>release_year</th>\n",
       "    </tr>\n",
       "  </thead>\n",
       "  <tbody>\n",
       "    <tr>\n",
       "      <th>88310</th>\n",
       "      <td>'Action', 'Casual', 'Indie', 'Simulation', 'St...</td>\n",
       "      <td>Lost Summoner Kitty</td>\n",
       "      <td>[Strategy, Action, Indie, Casual, Simulation]</td>\n",
       "      <td>4.99</td>\n",
       "      <td>761140</td>\n",
       "      <td>Kotoshiro</td>\n",
       "      <td>2018</td>\n",
       "    </tr>\n",
       "    <tr>\n",
       "      <th>88311</th>\n",
       "      <td>'Free to Play', 'Indie', 'RPG', 'Strategy'</td>\n",
       "      <td>Ironbound</td>\n",
       "      <td>[Free to Play, Strategy, Indie, RPG, Card Game...</td>\n",
       "      <td>0.00</td>\n",
       "      <td>643980</td>\n",
       "      <td>Secret Level SRL</td>\n",
       "      <td>2018</td>\n",
       "    </tr>\n",
       "    <tr>\n",
       "      <th>88312</th>\n",
       "      <td>'Casual', 'Free to Play', 'Indie', 'Simulation...</td>\n",
       "      <td>Real Pool 3D - Poolians</td>\n",
       "      <td>[Free to Play, Simulation, Sports, Casual, Ind...</td>\n",
       "      <td>0.00</td>\n",
       "      <td>670290</td>\n",
       "      <td>Poolians.com</td>\n",
       "      <td>2017</td>\n",
       "    </tr>\n",
       "    <tr>\n",
       "      <th>88313</th>\n",
       "      <td>'Action', 'Adventure', 'Casual'</td>\n",
       "      <td>弹炸人2222</td>\n",
       "      <td>[Action, Adventure, Casual]</td>\n",
       "      <td>0.99</td>\n",
       "      <td>767400</td>\n",
       "      <td>彼岸领域</td>\n",
       "      <td>2017</td>\n",
       "    </tr>\n",
       "    <tr>\n",
       "      <th>88315</th>\n",
       "      <td>'Action', 'Adventure', 'Simulation'</td>\n",
       "      <td>Battle Royale Trainer</td>\n",
       "      <td>[Action, Adventure, Simulation, FPS, Shooter, ...</td>\n",
       "      <td>3.99</td>\n",
       "      <td>772540</td>\n",
       "      <td>Trickjump Games Ltd</td>\n",
       "      <td>2018</td>\n",
       "    </tr>\n",
       "  </tbody>\n",
       "</table>\n",
       "</div>"
      ],
      "text/plain": [
       "                                                  genres  \\\n",
       "88310  'Action', 'Casual', 'Indie', 'Simulation', 'St...   \n",
       "88311         'Free to Play', 'Indie', 'RPG', 'Strategy'   \n",
       "88312  'Casual', 'Free to Play', 'Indie', 'Simulation...   \n",
       "88313                    'Action', 'Adventure', 'Casual'   \n",
       "88315                'Action', 'Adventure', 'Simulation'   \n",
       "\n",
       "                         title  \\\n",
       "88310      Lost Summoner Kitty   \n",
       "88311                Ironbound   \n",
       "88312  Real Pool 3D - Poolians   \n",
       "88313                  弹炸人2222   \n",
       "88315    Battle Royale Trainer   \n",
       "\n",
       "                                                    tags  price item_id  \\\n",
       "88310      [Strategy, Action, Indie, Casual, Simulation]   4.99  761140   \n",
       "88311  [Free to Play, Strategy, Indie, RPG, Card Game...   0.00  643980   \n",
       "88312  [Free to Play, Simulation, Sports, Casual, Ind...   0.00  670290   \n",
       "88313                        [Action, Adventure, Casual]   0.99  767400   \n",
       "88315  [Action, Adventure, Simulation, FPS, Shooter, ...   3.99  772540   \n",
       "\n",
       "                 developer  release_year  \n",
       "88310            Kotoshiro          2018  \n",
       "88311     Secret Level SRL          2018  \n",
       "88312         Poolians.com          2017  \n",
       "88313                 彼岸领域          2017  \n",
       "88315  Trickjump Games Ltd          2018  "
      ]
     },
     "execution_count": 91,
     "metadata": {},
     "output_type": "execute_result"
    }
   ],
   "source": [
    "df_steam_games.head()"
   ]
  },
  {
   "cell_type": "code",
   "execution_count": 21,
   "metadata": {},
   "outputs": [],
   "source": [
    "# Finalemente exportamos todos los datos limpios\n",
    "\n",
    "# Convertir los DataFrame  Pandas a objetos de tabla de Arrow\n",
    "tabla_arrow1 = pa.Table.from_pandas(df_steam_games)\n",
    "tabla_arrow2 = pa.Table.from_pandas(df_user_reviews)\n",
    "tabla_arrow3 = pa.Table.from_pandas(df_user_items)\n",
    "\n",
    "# Especificar el nombre de los archivos Parquet\n",
    "archivo_parquet1 = 'datasets/processed_data/steam_games.parquet'\n",
    "archivo_parquet2 = 'datasets/processed_data/user_reviews.parquet'\n",
    "archivo_parquet3 = 'datasets/processed_data/user_items.parquet'\n",
    "\n",
    "# Escribir las tablas Arrow en formato Parquet\n",
    "pq.write_table(tabla_arrow1, archivo_parquet1)\n",
    "pq.write_table(tabla_arrow2, archivo_parquet2)\n",
    "pq.write_table(tabla_arrow3, archivo_parquet3)\n"
   ]
  },
  {
   "cell_type": "markdown",
   "metadata": {},
   "source": [
    "> ## Resultado final:"
   ]
  },
  {
   "cell_type": "markdown",
   "metadata": {},
   "source": [
    "**df_steam_games:** Contiene información sobre juegos de Steam, incluyendo nombre, item_id, año de lanzamiento, precio,  desarrollador y género.\n",
    "\n",
    "**df_user_items:** Registra el tiempo de juego de los usuarios para cada item.\n",
    "\n",
    "**df_user_reviews:** Contiene información sobre las reseñas de los usuarios, incluyendo item_id, user_id, recomendación (True/False) y análisis del sentimiento (1=negativo,0=neutro,2=positivo)."
   ]
  }
 ],
 "metadata": {
  "kernelspec": {
   "display_name": "Python 3",
   "language": "python",
   "name": "python3"
  },
  "language_info": {
   "codemirror_mode": {
    "name": "ipython",
    "version": 3
   },
   "file_extension": ".py",
   "mimetype": "text/x-python",
   "name": "python",
   "nbconvert_exporter": "python",
   "pygments_lexer": "ipython3",
   "version": "3.9.0"
  }
 },
 "nbformat": 4,
 "nbformat_minor": 2
}
